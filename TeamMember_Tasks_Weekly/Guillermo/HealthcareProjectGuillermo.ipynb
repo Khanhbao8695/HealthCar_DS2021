{
  "nbformat": 4,
  "nbformat_minor": 0,
  "metadata": {
    "colab": {
      "name": "HealthcareProjectGuillermo.ipynb",
      "provenance": [],
      "collapsed_sections": []
    },
    "kernelspec": {
      "display_name": "Python 3",
      "name": "python3"
    },
    "language_info": {
      "name": "python"
    }
  },
  "cells": [
    {
      "cell_type": "code",
      "metadata": {
        "id": "PU5NpPbxmY0C"
      },
      "source": [
        "import pandas as pd\n",
        "import numpy as np\n",
        "import seaborn as sns\n",
        "import matplotlib.pyplot as plt\n",
        "%matplotlib inline\n",
        "from matplotlib import pyplot\n",
        "#Treat outliers\n",
        "from sklearn.preprocessing import StandardScaler, RobustScaler, MinMaxScaler\n",
        "#Treat numerical values\n",
        "from sklearn.preprocessing import OneHotEncoder\n",
        "\n",
        "#Option for displaying rows, columns in notebook\n",
        "%matplotlib inline\n",
        "pd.set_option('display.max_rows', None)\n",
        "pd.set_option('display.max_columns', None)\n",
        "pd.set_option('display.width', None)\n",
        "pd.set_option('display.max_colwidth', None)"
      ],
      "execution_count": null,
      "outputs": []
    },
    {
      "cell_type": "code",
      "metadata": {
        "id": "jPcd7MZGml2j"
      },
      "source": [
        "df = pd.read_csv('Healthcare_dataset.csv')"
      ],
      "execution_count": null,
      "outputs": []
    },
    {
      "cell_type": "code",
      "metadata": {
        "id": "nZha1Ia3mnTM",
        "colab": {
          "base_uri": "https://localhost:8080/",
          "height": 313
        },
        "outputId": "3547ea42-745c-4b15-c000-d29d1d8e4831"
      },
      "source": [
        "df.head()"
      ],
      "execution_count": null,
      "outputs": [
        {
          "output_type": "execute_result",
          "data": {
            "text/html": [
              "<div>\n",
              "<style scoped>\n",
              "    .dataframe tbody tr th:only-of-type {\n",
              "        vertical-align: middle;\n",
              "    }\n",
              "\n",
              "    .dataframe tbody tr th {\n",
              "        vertical-align: top;\n",
              "    }\n",
              "\n",
              "    .dataframe thead th {\n",
              "        text-align: right;\n",
              "    }\n",
              "</style>\n",
              "<table border=\"1\" class=\"dataframe\">\n",
              "  <thead>\n",
              "    <tr style=\"text-align: right;\">\n",
              "      <th></th>\n",
              "      <th>Ptid</th>\n",
              "      <th>Persistency_Flag</th>\n",
              "      <th>Gender</th>\n",
              "      <th>Race</th>\n",
              "      <th>Ethnicity</th>\n",
              "      <th>Region</th>\n",
              "      <th>Age_Bucket</th>\n",
              "      <th>Ntm_Speciality</th>\n",
              "      <th>Ntm_Specialist_Flag</th>\n",
              "      <th>Ntm_Speciality_Bucket</th>\n",
              "      <th>Gluco_Record_Prior_Ntm</th>\n",
              "      <th>Gluco_Record_During_Rx</th>\n",
              "      <th>Dexa_Freq_During_Rx</th>\n",
              "      <th>Dexa_During_Rx</th>\n",
              "      <th>Frag_Frac_Prior_Ntm</th>\n",
              "      <th>Frag_Frac_During_Rx</th>\n",
              "      <th>Risk_Segment_Prior_Ntm</th>\n",
              "      <th>Tscore_Bucket_Prior_Ntm</th>\n",
              "      <th>Risk_Segment_During_Rx</th>\n",
              "      <th>Tscore_Bucket_During_Rx</th>\n",
              "      <th>Change_T_Score</th>\n",
              "      <th>Change_Risk_Segment</th>\n",
              "      <th>Adherent_Flag</th>\n",
              "      <th>Idn_Indicator</th>\n",
              "      <th>Injectable_Experience_During_Rx</th>\n",
              "      <th>Comorb_Encounter_For_Screening_For_Malignant_Neoplasms</th>\n",
              "      <th>Comorb_Encounter_For_Immunization</th>\n",
              "      <th>Comorb_Encntr_For_General_Exam_W_O_Complaint,_Susp_Or_Reprtd_Dx</th>\n",
              "      <th>Comorb_Vitamin_D_Deficiency</th>\n",
              "      <th>Comorb_Other_Joint_Disorder_Not_Elsewhere_Classified</th>\n",
              "      <th>Comorb_Encntr_For_Oth_Sp_Exam_W_O_Complaint_Suspected_Or_Reprtd_Dx</th>\n",
              "      <th>Comorb_Long_Term_Current_Drug_Therapy</th>\n",
              "      <th>Comorb_Dorsalgia</th>\n",
              "      <th>Comorb_Personal_History_Of_Other_Diseases_And_Conditions</th>\n",
              "      <th>Comorb_Other_Disorders_Of_Bone_Density_And_Structure</th>\n",
              "      <th>Comorb_Disorders_of_lipoprotein_metabolism_and_other_lipidemias</th>\n",
              "      <th>Comorb_Osteoporosis_without_current_pathological_fracture</th>\n",
              "      <th>Comorb_Personal_history_of_malignant_neoplasm</th>\n",
              "      <th>Comorb_Gastro_esophageal_reflux_disease</th>\n",
              "      <th>Concom_Cholesterol_And_Triglyceride_Regulating_Preparations</th>\n",
              "      <th>Concom_Narcotics</th>\n",
              "      <th>Concom_Systemic_Corticosteroids_Plain</th>\n",
              "      <th>Concom_Anti_Depressants_And_Mood_Stabilisers</th>\n",
              "      <th>Concom_Fluoroquinolones</th>\n",
              "      <th>Concom_Cephalosporins</th>\n",
              "      <th>Concom_Macrolides_And_Similar_Types</th>\n",
              "      <th>Concom_Broad_Spectrum_Penicillins</th>\n",
              "      <th>Concom_Anaesthetics_General</th>\n",
              "      <th>Concom_Viral_Vaccines</th>\n",
              "      <th>Risk_Type_1_Insulin_Dependent_Diabetes</th>\n",
              "      <th>Risk_Osteogenesis_Imperfecta</th>\n",
              "      <th>Risk_Rheumatoid_Arthritis</th>\n",
              "      <th>Risk_Untreated_Chronic_Hyperthyroidism</th>\n",
              "      <th>Risk_Untreated_Chronic_Hypogonadism</th>\n",
              "      <th>Risk_Untreated_Early_Menopause</th>\n",
              "      <th>Risk_Patient_Parent_Fractured_Their_Hip</th>\n",
              "      <th>Risk_Smoking_Tobacco</th>\n",
              "      <th>Risk_Chronic_Malnutrition_Or_Malabsorption</th>\n",
              "      <th>Risk_Chronic_Liver_Disease</th>\n",
              "      <th>Risk_Family_History_Of_Osteoporosis</th>\n",
              "      <th>Risk_Low_Calcium_Intake</th>\n",
              "      <th>Risk_Vitamin_D_Insufficiency</th>\n",
              "      <th>Risk_Poor_Health_Frailty</th>\n",
              "      <th>Risk_Excessive_Thinness</th>\n",
              "      <th>Risk_Hysterectomy_Oophorectomy</th>\n",
              "      <th>Risk_Estrogen_Deficiency</th>\n",
              "      <th>Risk_Immobilization</th>\n",
              "      <th>Risk_Recurring_Falls</th>\n",
              "      <th>Count_Of_Risks</th>\n",
              "    </tr>\n",
              "  </thead>\n",
              "  <tbody>\n",
              "    <tr>\n",
              "      <th>0</th>\n",
              "      <td>P1</td>\n",
              "      <td>Persistent</td>\n",
              "      <td>Male</td>\n",
              "      <td>Caucasian</td>\n",
              "      <td>Not Hispanic</td>\n",
              "      <td>West</td>\n",
              "      <td>&gt;75</td>\n",
              "      <td>GENERAL PRACTITIONER</td>\n",
              "      <td>Others</td>\n",
              "      <td>OB/GYN/Others/PCP/Unknown</td>\n",
              "      <td>N</td>\n",
              "      <td>N</td>\n",
              "      <td>0</td>\n",
              "      <td>N</td>\n",
              "      <td>N</td>\n",
              "      <td>N</td>\n",
              "      <td>VLR_LR</td>\n",
              "      <td>&gt;-2.5</td>\n",
              "      <td>VLR_LR</td>\n",
              "      <td>&lt;=-2.5</td>\n",
              "      <td>No change</td>\n",
              "      <td>Unknown</td>\n",
              "      <td>Adherent</td>\n",
              "      <td>N</td>\n",
              "      <td>Y</td>\n",
              "      <td>N</td>\n",
              "      <td>Y</td>\n",
              "      <td>Y</td>\n",
              "      <td>N</td>\n",
              "      <td>N</td>\n",
              "      <td>Y</td>\n",
              "      <td>N</td>\n",
              "      <td>Y</td>\n",
              "      <td>Y</td>\n",
              "      <td>N</td>\n",
              "      <td>N</td>\n",
              "      <td>N</td>\n",
              "      <td>N</td>\n",
              "      <td>N</td>\n",
              "      <td>N</td>\n",
              "      <td>N</td>\n",
              "      <td>N</td>\n",
              "      <td>N</td>\n",
              "      <td>N</td>\n",
              "      <td>N</td>\n",
              "      <td>N</td>\n",
              "      <td>N</td>\n",
              "      <td>N</td>\n",
              "      <td>N</td>\n",
              "      <td>N</td>\n",
              "      <td>N</td>\n",
              "      <td>N</td>\n",
              "      <td>N</td>\n",
              "      <td>N</td>\n",
              "      <td>N</td>\n",
              "      <td>N</td>\n",
              "      <td>N</td>\n",
              "      <td>N</td>\n",
              "      <td>N</td>\n",
              "      <td>N</td>\n",
              "      <td>N</td>\n",
              "      <td>N</td>\n",
              "      <td>N</td>\n",
              "      <td>N</td>\n",
              "      <td>N</td>\n",
              "      <td>N</td>\n",
              "      <td>N</td>\n",
              "      <td>N</td>\n",
              "      <td>0</td>\n",
              "    </tr>\n",
              "    <tr>\n",
              "      <th>1</th>\n",
              "      <td>P2</td>\n",
              "      <td>Non-Persistent</td>\n",
              "      <td>Male</td>\n",
              "      <td>Asian</td>\n",
              "      <td>Not Hispanic</td>\n",
              "      <td>West</td>\n",
              "      <td>55-65</td>\n",
              "      <td>GENERAL PRACTITIONER</td>\n",
              "      <td>Others</td>\n",
              "      <td>OB/GYN/Others/PCP/Unknown</td>\n",
              "      <td>N</td>\n",
              "      <td>N</td>\n",
              "      <td>0</td>\n",
              "      <td>N</td>\n",
              "      <td>N</td>\n",
              "      <td>N</td>\n",
              "      <td>VLR_LR</td>\n",
              "      <td>&gt;-2.5</td>\n",
              "      <td>Unknown</td>\n",
              "      <td>Unknown</td>\n",
              "      <td>Unknown</td>\n",
              "      <td>Unknown</td>\n",
              "      <td>Adherent</td>\n",
              "      <td>N</td>\n",
              "      <td>Y</td>\n",
              "      <td>N</td>\n",
              "      <td>N</td>\n",
              "      <td>Y</td>\n",
              "      <td>N</td>\n",
              "      <td>N</td>\n",
              "      <td>N</td>\n",
              "      <td>N</td>\n",
              "      <td>N</td>\n",
              "      <td>N</td>\n",
              "      <td>N</td>\n",
              "      <td>N</td>\n",
              "      <td>N</td>\n",
              "      <td>N</td>\n",
              "      <td>N</td>\n",
              "      <td>N</td>\n",
              "      <td>N</td>\n",
              "      <td>N</td>\n",
              "      <td>N</td>\n",
              "      <td>N</td>\n",
              "      <td>N</td>\n",
              "      <td>N</td>\n",
              "      <td>N</td>\n",
              "      <td>N</td>\n",
              "      <td>N</td>\n",
              "      <td>N</td>\n",
              "      <td>N</td>\n",
              "      <td>N</td>\n",
              "      <td>N</td>\n",
              "      <td>N</td>\n",
              "      <td>N</td>\n",
              "      <td>N</td>\n",
              "      <td>N</td>\n",
              "      <td>N</td>\n",
              "      <td>N</td>\n",
              "      <td>N</td>\n",
              "      <td>N</td>\n",
              "      <td>N</td>\n",
              "      <td>N</td>\n",
              "      <td>N</td>\n",
              "      <td>N</td>\n",
              "      <td>N</td>\n",
              "      <td>N</td>\n",
              "      <td>N</td>\n",
              "      <td>0</td>\n",
              "    </tr>\n",
              "    <tr>\n",
              "      <th>2</th>\n",
              "      <td>P3</td>\n",
              "      <td>Non-Persistent</td>\n",
              "      <td>Female</td>\n",
              "      <td>Other/Unknown</td>\n",
              "      <td>Hispanic</td>\n",
              "      <td>Midwest</td>\n",
              "      <td>65-75</td>\n",
              "      <td>GENERAL PRACTITIONER</td>\n",
              "      <td>Others</td>\n",
              "      <td>OB/GYN/Others/PCP/Unknown</td>\n",
              "      <td>N</td>\n",
              "      <td>N</td>\n",
              "      <td>0</td>\n",
              "      <td>N</td>\n",
              "      <td>N</td>\n",
              "      <td>N</td>\n",
              "      <td>HR_VHR</td>\n",
              "      <td>&lt;=-2.5</td>\n",
              "      <td>HR_VHR</td>\n",
              "      <td>&lt;=-2.5</td>\n",
              "      <td>No change</td>\n",
              "      <td>No change</td>\n",
              "      <td>Adherent</td>\n",
              "      <td>N</td>\n",
              "      <td>Y</td>\n",
              "      <td>Y</td>\n",
              "      <td>N</td>\n",
              "      <td>Y</td>\n",
              "      <td>N</td>\n",
              "      <td>N</td>\n",
              "      <td>N</td>\n",
              "      <td>N</td>\n",
              "      <td>N</td>\n",
              "      <td>N</td>\n",
              "      <td>N</td>\n",
              "      <td>N</td>\n",
              "      <td>N</td>\n",
              "      <td>N</td>\n",
              "      <td>N</td>\n",
              "      <td>Y</td>\n",
              "      <td>N</td>\n",
              "      <td>N</td>\n",
              "      <td>N</td>\n",
              "      <td>N</td>\n",
              "      <td>N</td>\n",
              "      <td>N</td>\n",
              "      <td>N</td>\n",
              "      <td>N</td>\n",
              "      <td>N</td>\n",
              "      <td>N</td>\n",
              "      <td>N</td>\n",
              "      <td>N</td>\n",
              "      <td>N</td>\n",
              "      <td>N</td>\n",
              "      <td>N</td>\n",
              "      <td>Y</td>\n",
              "      <td>N</td>\n",
              "      <td>N</td>\n",
              "      <td>N</td>\n",
              "      <td>N</td>\n",
              "      <td>Y</td>\n",
              "      <td>N</td>\n",
              "      <td>N</td>\n",
              "      <td>N</td>\n",
              "      <td>N</td>\n",
              "      <td>N</td>\n",
              "      <td>N</td>\n",
              "      <td>N</td>\n",
              "      <td>2</td>\n",
              "    </tr>\n",
              "    <tr>\n",
              "      <th>3</th>\n",
              "      <td>P4</td>\n",
              "      <td>Non-Persistent</td>\n",
              "      <td>Female</td>\n",
              "      <td>Caucasian</td>\n",
              "      <td>Not Hispanic</td>\n",
              "      <td>Midwest</td>\n",
              "      <td>&gt;75</td>\n",
              "      <td>GENERAL PRACTITIONER</td>\n",
              "      <td>Others</td>\n",
              "      <td>OB/GYN/Others/PCP/Unknown</td>\n",
              "      <td>N</td>\n",
              "      <td>Y</td>\n",
              "      <td>0</td>\n",
              "      <td>N</td>\n",
              "      <td>N</td>\n",
              "      <td>N</td>\n",
              "      <td>HR_VHR</td>\n",
              "      <td>&gt;-2.5</td>\n",
              "      <td>HR_VHR</td>\n",
              "      <td>&lt;=-2.5</td>\n",
              "      <td>No change</td>\n",
              "      <td>No change</td>\n",
              "      <td>Adherent</td>\n",
              "      <td>N</td>\n",
              "      <td>Y</td>\n",
              "      <td>N</td>\n",
              "      <td>Y</td>\n",
              "      <td>Y</td>\n",
              "      <td>N</td>\n",
              "      <td>Y</td>\n",
              "      <td>N</td>\n",
              "      <td>N</td>\n",
              "      <td>Y</td>\n",
              "      <td>N</td>\n",
              "      <td>N</td>\n",
              "      <td>Y</td>\n",
              "      <td>N</td>\n",
              "      <td>N</td>\n",
              "      <td>Y</td>\n",
              "      <td>N</td>\n",
              "      <td>Y</td>\n",
              "      <td>Y</td>\n",
              "      <td>N</td>\n",
              "      <td>N</td>\n",
              "      <td>N</td>\n",
              "      <td>N</td>\n",
              "      <td>N</td>\n",
              "      <td>N</td>\n",
              "      <td>Y</td>\n",
              "      <td>N</td>\n",
              "      <td>N</td>\n",
              "      <td>N</td>\n",
              "      <td>N</td>\n",
              "      <td>N</td>\n",
              "      <td>N</td>\n",
              "      <td>N</td>\n",
              "      <td>Y</td>\n",
              "      <td>N</td>\n",
              "      <td>N</td>\n",
              "      <td>N</td>\n",
              "      <td>N</td>\n",
              "      <td>N</td>\n",
              "      <td>N</td>\n",
              "      <td>N</td>\n",
              "      <td>N</td>\n",
              "      <td>N</td>\n",
              "      <td>N</td>\n",
              "      <td>N</td>\n",
              "      <td>1</td>\n",
              "    </tr>\n",
              "    <tr>\n",
              "      <th>4</th>\n",
              "      <td>P5</td>\n",
              "      <td>Non-Persistent</td>\n",
              "      <td>Female</td>\n",
              "      <td>Caucasian</td>\n",
              "      <td>Not Hispanic</td>\n",
              "      <td>Midwest</td>\n",
              "      <td>&gt;75</td>\n",
              "      <td>GENERAL PRACTITIONER</td>\n",
              "      <td>Others</td>\n",
              "      <td>OB/GYN/Others/PCP/Unknown</td>\n",
              "      <td>Y</td>\n",
              "      <td>Y</td>\n",
              "      <td>0</td>\n",
              "      <td>N</td>\n",
              "      <td>N</td>\n",
              "      <td>N</td>\n",
              "      <td>HR_VHR</td>\n",
              "      <td>&lt;=-2.5</td>\n",
              "      <td>Unknown</td>\n",
              "      <td>Unknown</td>\n",
              "      <td>Unknown</td>\n",
              "      <td>Unknown</td>\n",
              "      <td>Adherent</td>\n",
              "      <td>N</td>\n",
              "      <td>Y</td>\n",
              "      <td>Y</td>\n",
              "      <td>Y</td>\n",
              "      <td>Y</td>\n",
              "      <td>N</td>\n",
              "      <td>N</td>\n",
              "      <td>N</td>\n",
              "      <td>N</td>\n",
              "      <td>Y</td>\n",
              "      <td>Y</td>\n",
              "      <td>N</td>\n",
              "      <td>N</td>\n",
              "      <td>N</td>\n",
              "      <td>N</td>\n",
              "      <td>N</td>\n",
              "      <td>N</td>\n",
              "      <td>Y</td>\n",
              "      <td>Y</td>\n",
              "      <td>Y</td>\n",
              "      <td>N</td>\n",
              "      <td>N</td>\n",
              "      <td>N</td>\n",
              "      <td>N</td>\n",
              "      <td>N</td>\n",
              "      <td>N</td>\n",
              "      <td>N</td>\n",
              "      <td>N</td>\n",
              "      <td>N</td>\n",
              "      <td>N</td>\n",
              "      <td>N</td>\n",
              "      <td>N</td>\n",
              "      <td>N</td>\n",
              "      <td>Y</td>\n",
              "      <td>N</td>\n",
              "      <td>N</td>\n",
              "      <td>N</td>\n",
              "      <td>N</td>\n",
              "      <td>N</td>\n",
              "      <td>N</td>\n",
              "      <td>N</td>\n",
              "      <td>N</td>\n",
              "      <td>N</td>\n",
              "      <td>N</td>\n",
              "      <td>N</td>\n",
              "      <td>1</td>\n",
              "    </tr>\n",
              "  </tbody>\n",
              "</table>\n",
              "</div>"
            ],
            "text/plain": [
              "  Ptid Persistency_Flag  Gender           Race     Ethnicity   Region  \\\n",
              "0   P1       Persistent    Male      Caucasian  Not Hispanic     West   \n",
              "1   P2   Non-Persistent    Male          Asian  Not Hispanic     West   \n",
              "2   P3   Non-Persistent  Female  Other/Unknown      Hispanic  Midwest   \n",
              "3   P4   Non-Persistent  Female      Caucasian  Not Hispanic  Midwest   \n",
              "4   P5   Non-Persistent  Female      Caucasian  Not Hispanic  Midwest   \n",
              "\n",
              "  Age_Bucket        Ntm_Speciality Ntm_Specialist_Flag  \\\n",
              "0        >75  GENERAL PRACTITIONER              Others   \n",
              "1      55-65  GENERAL PRACTITIONER              Others   \n",
              "2      65-75  GENERAL PRACTITIONER              Others   \n",
              "3        >75  GENERAL PRACTITIONER              Others   \n",
              "4        >75  GENERAL PRACTITIONER              Others   \n",
              "\n",
              "       Ntm_Speciality_Bucket Gluco_Record_Prior_Ntm Gluco_Record_During_Rx  \\\n",
              "0  OB/GYN/Others/PCP/Unknown                      N                      N   \n",
              "1  OB/GYN/Others/PCP/Unknown                      N                      N   \n",
              "2  OB/GYN/Others/PCP/Unknown                      N                      N   \n",
              "3  OB/GYN/Others/PCP/Unknown                      N                      Y   \n",
              "4  OB/GYN/Others/PCP/Unknown                      Y                      Y   \n",
              "\n",
              "   Dexa_Freq_During_Rx Dexa_During_Rx Frag_Frac_Prior_Ntm Frag_Frac_During_Rx  \\\n",
              "0                    0              N                   N                   N   \n",
              "1                    0              N                   N                   N   \n",
              "2                    0              N                   N                   N   \n",
              "3                    0              N                   N                   N   \n",
              "4                    0              N                   N                   N   \n",
              "\n",
              "  Risk_Segment_Prior_Ntm Tscore_Bucket_Prior_Ntm Risk_Segment_During_Rx  \\\n",
              "0                 VLR_LR                   >-2.5                 VLR_LR   \n",
              "1                 VLR_LR                   >-2.5                Unknown   \n",
              "2                 HR_VHR                  <=-2.5                 HR_VHR   \n",
              "3                 HR_VHR                   >-2.5                 HR_VHR   \n",
              "4                 HR_VHR                  <=-2.5                Unknown   \n",
              "\n",
              "  Tscore_Bucket_During_Rx Change_T_Score Change_Risk_Segment Adherent_Flag  \\\n",
              "0                  <=-2.5      No change             Unknown      Adherent   \n",
              "1                 Unknown        Unknown             Unknown      Adherent   \n",
              "2                  <=-2.5      No change           No change      Adherent   \n",
              "3                  <=-2.5      No change           No change      Adherent   \n",
              "4                 Unknown        Unknown             Unknown      Adherent   \n",
              "\n",
              "  Idn_Indicator Injectable_Experience_During_Rx  \\\n",
              "0             N                               Y   \n",
              "1             N                               Y   \n",
              "2             N                               Y   \n",
              "3             N                               Y   \n",
              "4             N                               Y   \n",
              "\n",
              "  Comorb_Encounter_For_Screening_For_Malignant_Neoplasms  \\\n",
              "0                                                      N   \n",
              "1                                                      N   \n",
              "2                                                      Y   \n",
              "3                                                      N   \n",
              "4                                                      Y   \n",
              "\n",
              "  Comorb_Encounter_For_Immunization  \\\n",
              "0                                 Y   \n",
              "1                                 N   \n",
              "2                                 N   \n",
              "3                                 Y   \n",
              "4                                 Y   \n",
              "\n",
              "  Comorb_Encntr_For_General_Exam_W_O_Complaint,_Susp_Or_Reprtd_Dx  \\\n",
              "0                                                               Y   \n",
              "1                                                               Y   \n",
              "2                                                               Y   \n",
              "3                                                               Y   \n",
              "4                                                               Y   \n",
              "\n",
              "  Comorb_Vitamin_D_Deficiency  \\\n",
              "0                           N   \n",
              "1                           N   \n",
              "2                           N   \n",
              "3                           N   \n",
              "4                           N   \n",
              "\n",
              "  Comorb_Other_Joint_Disorder_Not_Elsewhere_Classified  \\\n",
              "0                                                    N   \n",
              "1                                                    N   \n",
              "2                                                    N   \n",
              "3                                                    Y   \n",
              "4                                                    N   \n",
              "\n",
              "  Comorb_Encntr_For_Oth_Sp_Exam_W_O_Complaint_Suspected_Or_Reprtd_Dx  \\\n",
              "0                                                                  Y   \n",
              "1                                                                  N   \n",
              "2                                                                  N   \n",
              "3                                                                  N   \n",
              "4                                                                  N   \n",
              "\n",
              "  Comorb_Long_Term_Current_Drug_Therapy Comorb_Dorsalgia  \\\n",
              "0                                     N                Y   \n",
              "1                                     N                N   \n",
              "2                                     N                N   \n",
              "3                                     N                Y   \n",
              "4                                     N                Y   \n",
              "\n",
              "  Comorb_Personal_History_Of_Other_Diseases_And_Conditions  \\\n",
              "0                                                        Y   \n",
              "1                                                        N   \n",
              "2                                                        N   \n",
              "3                                                        N   \n",
              "4                                                        Y   \n",
              "\n",
              "  Comorb_Other_Disorders_Of_Bone_Density_And_Structure  \\\n",
              "0                                                    N   \n",
              "1                                                    N   \n",
              "2                                                    N   \n",
              "3                                                    N   \n",
              "4                                                    N   \n",
              "\n",
              "  Comorb_Disorders_of_lipoprotein_metabolism_and_other_lipidemias  \\\n",
              "0                                                               N   \n",
              "1                                                               N   \n",
              "2                                                               N   \n",
              "3                                                               Y   \n",
              "4                                                               N   \n",
              "\n",
              "  Comorb_Osteoporosis_without_current_pathological_fracture  \\\n",
              "0                                                         N   \n",
              "1                                                         N   \n",
              "2                                                         N   \n",
              "3                                                         N   \n",
              "4                                                         N   \n",
              "\n",
              "  Comorb_Personal_history_of_malignant_neoplasm  \\\n",
              "0                                             N   \n",
              "1                                             N   \n",
              "2                                             N   \n",
              "3                                             N   \n",
              "4                                             N   \n",
              "\n",
              "  Comorb_Gastro_esophageal_reflux_disease  \\\n",
              "0                                       N   \n",
              "1                                       N   \n",
              "2                                       N   \n",
              "3                                       Y   \n",
              "4                                       N   \n",
              "\n",
              "  Concom_Cholesterol_And_Triglyceride_Regulating_Preparations  \\\n",
              "0                                                           N   \n",
              "1                                                           N   \n",
              "2                                                           Y   \n",
              "3                                                           N   \n",
              "4                                                           N   \n",
              "\n",
              "  Concom_Narcotics Concom_Systemic_Corticosteroids_Plain  \\\n",
              "0                N                                     N   \n",
              "1                N                                     N   \n",
              "2                N                                     N   \n",
              "3                Y                                     Y   \n",
              "4                Y                                     Y   \n",
              "\n",
              "  Concom_Anti_Depressants_And_Mood_Stabilisers Concom_Fluoroquinolones  \\\n",
              "0                                            N                       N   \n",
              "1                                            N                       N   \n",
              "2                                            N                       N   \n",
              "3                                            N                       N   \n",
              "4                                            Y                       N   \n",
              "\n",
              "  Concom_Cephalosporins Concom_Macrolides_And_Similar_Types  \\\n",
              "0                     N                                   N   \n",
              "1                     N                                   N   \n",
              "2                     N                                   N   \n",
              "3                     N                                   N   \n",
              "4                     N                                   N   \n",
              "\n",
              "  Concom_Broad_Spectrum_Penicillins Concom_Anaesthetics_General  \\\n",
              "0                                 N                           N   \n",
              "1                                 N                           N   \n",
              "2                                 N                           N   \n",
              "3                                 N                           N   \n",
              "4                                 N                           N   \n",
              "\n",
              "  Concom_Viral_Vaccines Risk_Type_1_Insulin_Dependent_Diabetes  \\\n",
              "0                     N                                      N   \n",
              "1                     N                                      N   \n",
              "2                     N                                      N   \n",
              "3                     Y                                      N   \n",
              "4                     N                                      N   \n",
              "\n",
              "  Risk_Osteogenesis_Imperfecta Risk_Rheumatoid_Arthritis  \\\n",
              "0                            N                         N   \n",
              "1                            N                         N   \n",
              "2                            N                         N   \n",
              "3                            N                         N   \n",
              "4                            N                         N   \n",
              "\n",
              "  Risk_Untreated_Chronic_Hyperthyroidism Risk_Untreated_Chronic_Hypogonadism  \\\n",
              "0                                      N                                   N   \n",
              "1                                      N                                   N   \n",
              "2                                      N                                   N   \n",
              "3                                      N                                   N   \n",
              "4                                      N                                   N   \n",
              "\n",
              "  Risk_Untreated_Early_Menopause Risk_Patient_Parent_Fractured_Their_Hip  \\\n",
              "0                              N                                       N   \n",
              "1                              N                                       N   \n",
              "2                              N                                       Y   \n",
              "3                              N                                       N   \n",
              "4                              N                                       N   \n",
              "\n",
              "  Risk_Smoking_Tobacco Risk_Chronic_Malnutrition_Or_Malabsorption  \\\n",
              "0                    N                                          N   \n",
              "1                    N                                          N   \n",
              "2                    N                                          N   \n",
              "3                    Y                                          N   \n",
              "4                    Y                                          N   \n",
              "\n",
              "  Risk_Chronic_Liver_Disease Risk_Family_History_Of_Osteoporosis  \\\n",
              "0                          N                                   N   \n",
              "1                          N                                   N   \n",
              "2                          N                                   N   \n",
              "3                          N                                   N   \n",
              "4                          N                                   N   \n",
              "\n",
              "  Risk_Low_Calcium_Intake Risk_Vitamin_D_Insufficiency  \\\n",
              "0                       N                            N   \n",
              "1                       N                            N   \n",
              "2                       Y                            N   \n",
              "3                       N                            N   \n",
              "4                       N                            N   \n",
              "\n",
              "  Risk_Poor_Health_Frailty Risk_Excessive_Thinness  \\\n",
              "0                        N                       N   \n",
              "1                        N                       N   \n",
              "2                        N                       N   \n",
              "3                        N                       N   \n",
              "4                        N                       N   \n",
              "\n",
              "  Risk_Hysterectomy_Oophorectomy Risk_Estrogen_Deficiency Risk_Immobilization  \\\n",
              "0                              N                        N                   N   \n",
              "1                              N                        N                   N   \n",
              "2                              N                        N                   N   \n",
              "3                              N                        N                   N   \n",
              "4                              N                        N                   N   \n",
              "\n",
              "  Risk_Recurring_Falls  Count_Of_Risks  \n",
              "0                    N               0  \n",
              "1                    N               0  \n",
              "2                    N               2  \n",
              "3                    N               1  \n",
              "4                    N               1  "
            ]
          },
          "metadata": {},
          "execution_count": 103
        }
      ]
    },
    {
      "cell_type": "code",
      "metadata": {
        "colab": {
          "base_uri": "https://localhost:8080/"
        },
        "id": "udGNQU_Smrj_",
        "outputId": "e84027bf-c5d9-45f9-cf80-f3872b1b5364"
      },
      "source": [
        "df.dtypes"
      ],
      "execution_count": null,
      "outputs": [
        {
          "output_type": "execute_result",
          "data": {
            "text/plain": [
              "Ptid                                                                  object\n",
              "Persistency_Flag                                                      object\n",
              "Gender                                                                object\n",
              "Race                                                                  object\n",
              "Ethnicity                                                             object\n",
              "Region                                                                object\n",
              "Age_Bucket                                                            object\n",
              "Ntm_Speciality                                                        object\n",
              "Ntm_Specialist_Flag                                                   object\n",
              "Ntm_Speciality_Bucket                                                 object\n",
              "Gluco_Record_Prior_Ntm                                                object\n",
              "Gluco_Record_During_Rx                                                object\n",
              "Dexa_Freq_During_Rx                                                    int64\n",
              "Dexa_During_Rx                                                        object\n",
              "Frag_Frac_Prior_Ntm                                                   object\n",
              "Frag_Frac_During_Rx                                                   object\n",
              "Risk_Segment_Prior_Ntm                                                object\n",
              "Tscore_Bucket_Prior_Ntm                                               object\n",
              "Risk_Segment_During_Rx                                                object\n",
              "Tscore_Bucket_During_Rx                                               object\n",
              "Change_T_Score                                                        object\n",
              "Change_Risk_Segment                                                   object\n",
              "Adherent_Flag                                                         object\n",
              "Idn_Indicator                                                         object\n",
              "Injectable_Experience_During_Rx                                       object\n",
              "Comorb_Encounter_For_Screening_For_Malignant_Neoplasms                object\n",
              "Comorb_Encounter_For_Immunization                                     object\n",
              "Comorb_Encntr_For_General_Exam_W_O_Complaint,_Susp_Or_Reprtd_Dx       object\n",
              "Comorb_Vitamin_D_Deficiency                                           object\n",
              "Comorb_Other_Joint_Disorder_Not_Elsewhere_Classified                  object\n",
              "Comorb_Encntr_For_Oth_Sp_Exam_W_O_Complaint_Suspected_Or_Reprtd_Dx    object\n",
              "Comorb_Long_Term_Current_Drug_Therapy                                 object\n",
              "Comorb_Dorsalgia                                                      object\n",
              "Comorb_Personal_History_Of_Other_Diseases_And_Conditions              object\n",
              "Comorb_Other_Disorders_Of_Bone_Density_And_Structure                  object\n",
              "Comorb_Disorders_of_lipoprotein_metabolism_and_other_lipidemias       object\n",
              "Comorb_Osteoporosis_without_current_pathological_fracture             object\n",
              "Comorb_Personal_history_of_malignant_neoplasm                         object\n",
              "Comorb_Gastro_esophageal_reflux_disease                               object\n",
              "Concom_Cholesterol_And_Triglyceride_Regulating_Preparations           object\n",
              "Concom_Narcotics                                                      object\n",
              "Concom_Systemic_Corticosteroids_Plain                                 object\n",
              "Concom_Anti_Depressants_And_Mood_Stabilisers                          object\n",
              "Concom_Fluoroquinolones                                               object\n",
              "Concom_Cephalosporins                                                 object\n",
              "Concom_Macrolides_And_Similar_Types                                   object\n",
              "Concom_Broad_Spectrum_Penicillins                                     object\n",
              "Concom_Anaesthetics_General                                           object\n",
              "Concom_Viral_Vaccines                                                 object\n",
              "Risk_Type_1_Insulin_Dependent_Diabetes                                object\n",
              "Risk_Osteogenesis_Imperfecta                                          object\n",
              "Risk_Rheumatoid_Arthritis                                             object\n",
              "Risk_Untreated_Chronic_Hyperthyroidism                                object\n",
              "Risk_Untreated_Chronic_Hypogonadism                                   object\n",
              "Risk_Untreated_Early_Menopause                                        object\n",
              "Risk_Patient_Parent_Fractured_Their_Hip                               object\n",
              "Risk_Smoking_Tobacco                                                  object\n",
              "Risk_Chronic_Malnutrition_Or_Malabsorption                            object\n",
              "Risk_Chronic_Liver_Disease                                            object\n",
              "Risk_Family_History_Of_Osteoporosis                                   object\n",
              "Risk_Low_Calcium_Intake                                               object\n",
              "Risk_Vitamin_D_Insufficiency                                          object\n",
              "Risk_Poor_Health_Frailty                                              object\n",
              "Risk_Excessive_Thinness                                               object\n",
              "Risk_Hysterectomy_Oophorectomy                                        object\n",
              "Risk_Estrogen_Deficiency                                              object\n",
              "Risk_Immobilization                                                   object\n",
              "Risk_Recurring_Falls                                                  object\n",
              "Count_Of_Risks                                                         int64\n",
              "dtype: object"
            ]
          },
          "metadata": {},
          "execution_count": 7
        }
      ]
    },
    {
      "cell_type": "code",
      "metadata": {
        "colab": {
          "base_uri": "https://localhost:8080/",
          "height": 300
        },
        "id": "styArE00msQD",
        "outputId": "22547f22-d504-45a0-a36e-a41fda07aa4f"
      },
      "source": [
        "df.describe()"
      ],
      "execution_count": null,
      "outputs": [
        {
          "output_type": "execute_result",
          "data": {
            "text/html": [
              "<div>\n",
              "<style scoped>\n",
              "    .dataframe tbody tr th:only-of-type {\n",
              "        vertical-align: middle;\n",
              "    }\n",
              "\n",
              "    .dataframe tbody tr th {\n",
              "        vertical-align: top;\n",
              "    }\n",
              "\n",
              "    .dataframe thead th {\n",
              "        text-align: right;\n",
              "    }\n",
              "</style>\n",
              "<table border=\"1\" class=\"dataframe\">\n",
              "  <thead>\n",
              "    <tr style=\"text-align: right;\">\n",
              "      <th></th>\n",
              "      <th>Dexa_Freq_During_Rx</th>\n",
              "      <th>Count_Of_Risks</th>\n",
              "    </tr>\n",
              "  </thead>\n",
              "  <tbody>\n",
              "    <tr>\n",
              "      <th>count</th>\n",
              "      <td>3424.000000</td>\n",
              "      <td>3424.000000</td>\n",
              "    </tr>\n",
              "    <tr>\n",
              "      <th>mean</th>\n",
              "      <td>3.016063</td>\n",
              "      <td>1.239486</td>\n",
              "    </tr>\n",
              "    <tr>\n",
              "      <th>std</th>\n",
              "      <td>8.136545</td>\n",
              "      <td>1.094914</td>\n",
              "    </tr>\n",
              "    <tr>\n",
              "      <th>min</th>\n",
              "      <td>0.000000</td>\n",
              "      <td>0.000000</td>\n",
              "    </tr>\n",
              "    <tr>\n",
              "      <th>25%</th>\n",
              "      <td>0.000000</td>\n",
              "      <td>0.000000</td>\n",
              "    </tr>\n",
              "    <tr>\n",
              "      <th>50%</th>\n",
              "      <td>0.000000</td>\n",
              "      <td>1.000000</td>\n",
              "    </tr>\n",
              "    <tr>\n",
              "      <th>75%</th>\n",
              "      <td>3.000000</td>\n",
              "      <td>2.000000</td>\n",
              "    </tr>\n",
              "    <tr>\n",
              "      <th>max</th>\n",
              "      <td>146.000000</td>\n",
              "      <td>7.000000</td>\n",
              "    </tr>\n",
              "  </tbody>\n",
              "</table>\n",
              "</div>"
            ],
            "text/plain": [
              "       Dexa_Freq_During_Rx  Count_Of_Risks\n",
              "count          3424.000000     3424.000000\n",
              "mean              3.016063        1.239486\n",
              "std               8.136545        1.094914\n",
              "min               0.000000        0.000000\n",
              "25%               0.000000        0.000000\n",
              "50%               0.000000        1.000000\n",
              "75%               3.000000        2.000000\n",
              "max             146.000000        7.000000"
            ]
          },
          "metadata": {},
          "execution_count": 8
        }
      ]
    },
    {
      "cell_type": "markdown",
      "metadata": {
        "id": "0BHI074qPPL5"
      },
      "source": [
        ""
      ]
    },
    {
      "cell_type": "code",
      "metadata": {
        "colab": {
          "base_uri": "https://localhost:8080/"
        },
        "id": "tGdZuB55PRDE",
        "outputId": "6d6dd940-b123-42ad-8900-e476d5be3563"
      },
      "source": [
        "df.shape"
      ],
      "execution_count": null,
      "outputs": [
        {
          "output_type": "execute_result",
          "data": {
            "text/plain": [
              "(3424, 69)"
            ]
          },
          "metadata": {},
          "execution_count": 9
        }
      ]
    },
    {
      "cell_type": "code",
      "metadata": {
        "id": "EKp12wEHmuPN",
        "colab": {
          "base_uri": "https://localhost:8080/",
          "height": 101
        },
        "outputId": "430c9e23-8a98-4fe3-e073-2deba8f9c954"
      },
      "source": [
        "pd.DataFrame(df.dtypes, columns=['Type']).T"
      ],
      "execution_count": null,
      "outputs": [
        {
          "output_type": "execute_result",
          "data": {
            "text/html": [
              "<div>\n",
              "<style scoped>\n",
              "    .dataframe tbody tr th:only-of-type {\n",
              "        vertical-align: middle;\n",
              "    }\n",
              "\n",
              "    .dataframe tbody tr th {\n",
              "        vertical-align: top;\n",
              "    }\n",
              "\n",
              "    .dataframe thead th {\n",
              "        text-align: right;\n",
              "    }\n",
              "</style>\n",
              "<table border=\"1\" class=\"dataframe\">\n",
              "  <thead>\n",
              "    <tr style=\"text-align: right;\">\n",
              "      <th></th>\n",
              "      <th>Ptid</th>\n",
              "      <th>Persistency_Flag</th>\n",
              "      <th>Gender</th>\n",
              "      <th>Race</th>\n",
              "      <th>Ethnicity</th>\n",
              "      <th>Region</th>\n",
              "      <th>Age_Bucket</th>\n",
              "      <th>Ntm_Speciality</th>\n",
              "      <th>Ntm_Specialist_Flag</th>\n",
              "      <th>Ntm_Speciality_Bucket</th>\n",
              "      <th>Gluco_Record_Prior_Ntm</th>\n",
              "      <th>Gluco_Record_During_Rx</th>\n",
              "      <th>Dexa_Freq_During_Rx</th>\n",
              "      <th>Dexa_During_Rx</th>\n",
              "      <th>Frag_Frac_Prior_Ntm</th>\n",
              "      <th>Frag_Frac_During_Rx</th>\n",
              "      <th>Risk_Segment_Prior_Ntm</th>\n",
              "      <th>Tscore_Bucket_Prior_Ntm</th>\n",
              "      <th>Risk_Segment_During_Rx</th>\n",
              "      <th>Tscore_Bucket_During_Rx</th>\n",
              "      <th>Change_T_Score</th>\n",
              "      <th>Change_Risk_Segment</th>\n",
              "      <th>Adherent_Flag</th>\n",
              "      <th>Idn_Indicator</th>\n",
              "      <th>Injectable_Experience_During_Rx</th>\n",
              "      <th>Comorb_Encounter_For_Screening_For_Malignant_Neoplasms</th>\n",
              "      <th>Comorb_Encounter_For_Immunization</th>\n",
              "      <th>Comorb_Encntr_For_General_Exam_W_O_Complaint,_Susp_Or_Reprtd_Dx</th>\n",
              "      <th>Comorb_Vitamin_D_Deficiency</th>\n",
              "      <th>Comorb_Other_Joint_Disorder_Not_Elsewhere_Classified</th>\n",
              "      <th>Comorb_Encntr_For_Oth_Sp_Exam_W_O_Complaint_Suspected_Or_Reprtd_Dx</th>\n",
              "      <th>Comorb_Long_Term_Current_Drug_Therapy</th>\n",
              "      <th>Comorb_Dorsalgia</th>\n",
              "      <th>Comorb_Personal_History_Of_Other_Diseases_And_Conditions</th>\n",
              "      <th>Comorb_Other_Disorders_Of_Bone_Density_And_Structure</th>\n",
              "      <th>Comorb_Disorders_of_lipoprotein_metabolism_and_other_lipidemias</th>\n",
              "      <th>Comorb_Osteoporosis_without_current_pathological_fracture</th>\n",
              "      <th>Comorb_Personal_history_of_malignant_neoplasm</th>\n",
              "      <th>Comorb_Gastro_esophageal_reflux_disease</th>\n",
              "      <th>Concom_Cholesterol_And_Triglyceride_Regulating_Preparations</th>\n",
              "      <th>Concom_Narcotics</th>\n",
              "      <th>Concom_Systemic_Corticosteroids_Plain</th>\n",
              "      <th>Concom_Anti_Depressants_And_Mood_Stabilisers</th>\n",
              "      <th>Concom_Fluoroquinolones</th>\n",
              "      <th>Concom_Cephalosporins</th>\n",
              "      <th>Concom_Macrolides_And_Similar_Types</th>\n",
              "      <th>Concom_Broad_Spectrum_Penicillins</th>\n",
              "      <th>Concom_Anaesthetics_General</th>\n",
              "      <th>Concom_Viral_Vaccines</th>\n",
              "      <th>Risk_Type_1_Insulin_Dependent_Diabetes</th>\n",
              "      <th>Risk_Osteogenesis_Imperfecta</th>\n",
              "      <th>Risk_Rheumatoid_Arthritis</th>\n",
              "      <th>Risk_Untreated_Chronic_Hyperthyroidism</th>\n",
              "      <th>Risk_Untreated_Chronic_Hypogonadism</th>\n",
              "      <th>Risk_Untreated_Early_Menopause</th>\n",
              "      <th>Risk_Patient_Parent_Fractured_Their_Hip</th>\n",
              "      <th>Risk_Smoking_Tobacco</th>\n",
              "      <th>Risk_Chronic_Malnutrition_Or_Malabsorption</th>\n",
              "      <th>Risk_Chronic_Liver_Disease</th>\n",
              "      <th>Risk_Family_History_Of_Osteoporosis</th>\n",
              "      <th>Risk_Low_Calcium_Intake</th>\n",
              "      <th>Risk_Vitamin_D_Insufficiency</th>\n",
              "      <th>Risk_Poor_Health_Frailty</th>\n",
              "      <th>Risk_Excessive_Thinness</th>\n",
              "      <th>Risk_Hysterectomy_Oophorectomy</th>\n",
              "      <th>Risk_Estrogen_Deficiency</th>\n",
              "      <th>Risk_Immobilization</th>\n",
              "      <th>Risk_Recurring_Falls</th>\n",
              "      <th>Count_Of_Risks</th>\n",
              "    </tr>\n",
              "  </thead>\n",
              "  <tbody>\n",
              "    <tr>\n",
              "      <th>Type</th>\n",
              "      <td>object</td>\n",
              "      <td>object</td>\n",
              "      <td>object</td>\n",
              "      <td>object</td>\n",
              "      <td>object</td>\n",
              "      <td>object</td>\n",
              "      <td>object</td>\n",
              "      <td>object</td>\n",
              "      <td>object</td>\n",
              "      <td>object</td>\n",
              "      <td>object</td>\n",
              "      <td>object</td>\n",
              "      <td>int64</td>\n",
              "      <td>object</td>\n",
              "      <td>object</td>\n",
              "      <td>object</td>\n",
              "      <td>object</td>\n",
              "      <td>object</td>\n",
              "      <td>object</td>\n",
              "      <td>object</td>\n",
              "      <td>object</td>\n",
              "      <td>object</td>\n",
              "      <td>object</td>\n",
              "      <td>object</td>\n",
              "      <td>object</td>\n",
              "      <td>object</td>\n",
              "      <td>object</td>\n",
              "      <td>object</td>\n",
              "      <td>object</td>\n",
              "      <td>object</td>\n",
              "      <td>object</td>\n",
              "      <td>object</td>\n",
              "      <td>object</td>\n",
              "      <td>object</td>\n",
              "      <td>object</td>\n",
              "      <td>object</td>\n",
              "      <td>object</td>\n",
              "      <td>object</td>\n",
              "      <td>object</td>\n",
              "      <td>object</td>\n",
              "      <td>object</td>\n",
              "      <td>object</td>\n",
              "      <td>object</td>\n",
              "      <td>object</td>\n",
              "      <td>object</td>\n",
              "      <td>object</td>\n",
              "      <td>object</td>\n",
              "      <td>object</td>\n",
              "      <td>object</td>\n",
              "      <td>object</td>\n",
              "      <td>object</td>\n",
              "      <td>object</td>\n",
              "      <td>object</td>\n",
              "      <td>object</td>\n",
              "      <td>object</td>\n",
              "      <td>object</td>\n",
              "      <td>object</td>\n",
              "      <td>object</td>\n",
              "      <td>object</td>\n",
              "      <td>object</td>\n",
              "      <td>object</td>\n",
              "      <td>object</td>\n",
              "      <td>object</td>\n",
              "      <td>object</td>\n",
              "      <td>object</td>\n",
              "      <td>object</td>\n",
              "      <td>object</td>\n",
              "      <td>object</td>\n",
              "      <td>int64</td>\n",
              "    </tr>\n",
              "  </tbody>\n",
              "</table>\n",
              "</div>"
            ],
            "text/plain": [
              "        Ptid Persistency_Flag  Gender    Race Ethnicity  Region Age_Bucket  \\\n",
              "Type  object           object  object  object    object  object     object   \n",
              "\n",
              "     Ntm_Speciality Ntm_Specialist_Flag Ntm_Speciality_Bucket  \\\n",
              "Type         object              object                object   \n",
              "\n",
              "     Gluco_Record_Prior_Ntm Gluco_Record_During_Rx Dexa_Freq_During_Rx  \\\n",
              "Type                 object                 object               int64   \n",
              "\n",
              "     Dexa_During_Rx Frag_Frac_Prior_Ntm Frag_Frac_During_Rx  \\\n",
              "Type         object              object              object   \n",
              "\n",
              "     Risk_Segment_Prior_Ntm Tscore_Bucket_Prior_Ntm Risk_Segment_During_Rx  \\\n",
              "Type                 object                  object                 object   \n",
              "\n",
              "     Tscore_Bucket_During_Rx Change_T_Score Change_Risk_Segment Adherent_Flag  \\\n",
              "Type                  object         object              object        object   \n",
              "\n",
              "     Idn_Indicator Injectable_Experience_During_Rx  \\\n",
              "Type        object                          object   \n",
              "\n",
              "     Comorb_Encounter_For_Screening_For_Malignant_Neoplasms  \\\n",
              "Type                                                 object   \n",
              "\n",
              "     Comorb_Encounter_For_Immunization  \\\n",
              "Type                            object   \n",
              "\n",
              "     Comorb_Encntr_For_General_Exam_W_O_Complaint,_Susp_Or_Reprtd_Dx  \\\n",
              "Type                                                          object   \n",
              "\n",
              "     Comorb_Vitamin_D_Deficiency  \\\n",
              "Type                      object   \n",
              "\n",
              "     Comorb_Other_Joint_Disorder_Not_Elsewhere_Classified  \\\n",
              "Type                                               object   \n",
              "\n",
              "     Comorb_Encntr_For_Oth_Sp_Exam_W_O_Complaint_Suspected_Or_Reprtd_Dx  \\\n",
              "Type                                                             object   \n",
              "\n",
              "     Comorb_Long_Term_Current_Drug_Therapy Comorb_Dorsalgia  \\\n",
              "Type                                object           object   \n",
              "\n",
              "     Comorb_Personal_History_Of_Other_Diseases_And_Conditions  \\\n",
              "Type                                                   object   \n",
              "\n",
              "     Comorb_Other_Disorders_Of_Bone_Density_And_Structure  \\\n",
              "Type                                               object   \n",
              "\n",
              "     Comorb_Disorders_of_lipoprotein_metabolism_and_other_lipidemias  \\\n",
              "Type                                                          object   \n",
              "\n",
              "     Comorb_Osteoporosis_without_current_pathological_fracture  \\\n",
              "Type                                                    object   \n",
              "\n",
              "     Comorb_Personal_history_of_malignant_neoplasm  \\\n",
              "Type                                        object   \n",
              "\n",
              "     Comorb_Gastro_esophageal_reflux_disease  \\\n",
              "Type                                  object   \n",
              "\n",
              "     Concom_Cholesterol_And_Triglyceride_Regulating_Preparations  \\\n",
              "Type                                                      object   \n",
              "\n",
              "     Concom_Narcotics Concom_Systemic_Corticosteroids_Plain  \\\n",
              "Type           object                                object   \n",
              "\n",
              "     Concom_Anti_Depressants_And_Mood_Stabilisers Concom_Fluoroquinolones  \\\n",
              "Type                                       object                  object   \n",
              "\n",
              "     Concom_Cephalosporins Concom_Macrolides_And_Similar_Types  \\\n",
              "Type                object                              object   \n",
              "\n",
              "     Concom_Broad_Spectrum_Penicillins Concom_Anaesthetics_General  \\\n",
              "Type                            object                      object   \n",
              "\n",
              "     Concom_Viral_Vaccines Risk_Type_1_Insulin_Dependent_Diabetes  \\\n",
              "Type                object                                 object   \n",
              "\n",
              "     Risk_Osteogenesis_Imperfecta Risk_Rheumatoid_Arthritis  \\\n",
              "Type                       object                    object   \n",
              "\n",
              "     Risk_Untreated_Chronic_Hyperthyroidism  \\\n",
              "Type                                 object   \n",
              "\n",
              "     Risk_Untreated_Chronic_Hypogonadism Risk_Untreated_Early_Menopause  \\\n",
              "Type                              object                         object   \n",
              "\n",
              "     Risk_Patient_Parent_Fractured_Their_Hip Risk_Smoking_Tobacco  \\\n",
              "Type                                  object               object   \n",
              "\n",
              "     Risk_Chronic_Malnutrition_Or_Malabsorption Risk_Chronic_Liver_Disease  \\\n",
              "Type                                     object                     object   \n",
              "\n",
              "     Risk_Family_History_Of_Osteoporosis Risk_Low_Calcium_Intake  \\\n",
              "Type                              object                  object   \n",
              "\n",
              "     Risk_Vitamin_D_Insufficiency Risk_Poor_Health_Frailty  \\\n",
              "Type                       object                   object   \n",
              "\n",
              "     Risk_Excessive_Thinness Risk_Hysterectomy_Oophorectomy  \\\n",
              "Type                  object                         object   \n",
              "\n",
              "     Risk_Estrogen_Deficiency Risk_Immobilization Risk_Recurring_Falls  \\\n",
              "Type                   object              object               object   \n",
              "\n",
              "     Count_Of_Risks  \n",
              "Type          int64  "
            ]
          },
          "metadata": {},
          "execution_count": 10
        }
      ]
    },
    {
      "cell_type": "markdown",
      "metadata": {
        "id": "10YeVKiKQLjP"
      },
      "source": [
        "**Calculate percentage of Persistent and Non-Persistent in the df**"
      ]
    },
    {
      "cell_type": "code",
      "metadata": {
        "colab": {
          "base_uri": "https://localhost:8080/"
        },
        "id": "MYdX0QdOQKd8",
        "outputId": "1f522fb8-9d01-404f-f48e-0c394f626e81"
      },
      "source": [
        "#Get total number of Persistency and Non-Persistency in Persistency_Flag column\n",
        "types= df['Persistency_Flag'].value_counts()\n",
        "print(types)"
      ],
      "execution_count": null,
      "outputs": [
        {
          "output_type": "stream",
          "name": "stdout",
          "text": [
            "Non-Persistent    2135\n",
            "Persistent        1289\n",
            "Name: Persistency_Flag, dtype: int64\n"
          ]
        }
      ]
    },
    {
      "cell_type": "code",
      "metadata": {
        "colab": {
          "base_uri": "https://localhost:8080/"
        },
        "id": "2bMmivXXQWIA",
        "outputId": "2568d93b-1d84-4671-b129-6509bcc52829"
      },
      "source": [
        "#Calculate the percentage of Persistency and Non-Persistency\n",
        "Flag= round(types[0]/df['Persistency_Flag'].count()*100,2)\n",
        "Non_Flag=round(types[1]/df['Persistency_Flag'].count()*100,2)\n",
        "#prin the result\n",
        "print(\"Persistent : {} %\".format(Flag))\n",
        "print(\"Non-Persistent : {} %\".format(Non_Flag))"
      ],
      "execution_count": null,
      "outputs": [
        {
          "output_type": "stream",
          "name": "stdout",
          "text": [
            "Persistent : 62.35 %\n",
            "Non-Persistent : 37.65 %\n"
          ]
        }
      ]
    },
    {
      "cell_type": "markdown",
      "metadata": {
        "id": "nsaDMc1RQeNF"
      },
      "source": [
        "# **Checking Missing Value/Null data**"
      ]
    },
    {
      "cell_type": "code",
      "metadata": {
        "id": "AIl_vrXlQxxP"
      },
      "source": [
        "def missing_data(data):\n",
        "    total = data.isnull().sum()\n",
        "    percent = (data.isnull().sum()/data.isnull().count()*100)\n",
        "    tt = pd.concat([total, percent], axis=1, keys=['Total', 'Percent'])\n",
        "    types = []\n",
        "    for col in data.columns:\n",
        "        dtype = str(data[col].dtype)\n",
        "        types.append(dtype)\n",
        "    tt['Types'] = types\n",
        "    return(tt)"
      ],
      "execution_count": null,
      "outputs": []
    },
    {
      "cell_type": "code",
      "metadata": {
        "colab": {
          "base_uri": "https://localhost:8080/",
          "height": 1000
        },
        "id": "OI6KnZMCQdib",
        "outputId": "4398dd47-ad5c-44af-da70-05d39e81e05e"
      },
      "source": [
        "nullstable = missing_data(df)\n",
        "nullstable"
      ],
      "execution_count": null,
      "outputs": [
        {
          "output_type": "execute_result",
          "data": {
            "text/html": [
              "<div>\n",
              "<style scoped>\n",
              "    .dataframe tbody tr th:only-of-type {\n",
              "        vertical-align: middle;\n",
              "    }\n",
              "\n",
              "    .dataframe tbody tr th {\n",
              "        vertical-align: top;\n",
              "    }\n",
              "\n",
              "    .dataframe thead th {\n",
              "        text-align: right;\n",
              "    }\n",
              "</style>\n",
              "<table border=\"1\" class=\"dataframe\">\n",
              "  <thead>\n",
              "    <tr style=\"text-align: right;\">\n",
              "      <th></th>\n",
              "      <th>Total</th>\n",
              "      <th>Percent</th>\n",
              "      <th>Types</th>\n",
              "    </tr>\n",
              "  </thead>\n",
              "  <tbody>\n",
              "    <tr>\n",
              "      <th>Ptid</th>\n",
              "      <td>0</td>\n",
              "      <td>0.0</td>\n",
              "      <td>object</td>\n",
              "    </tr>\n",
              "    <tr>\n",
              "      <th>Persistency_Flag</th>\n",
              "      <td>0</td>\n",
              "      <td>0.0</td>\n",
              "      <td>object</td>\n",
              "    </tr>\n",
              "    <tr>\n",
              "      <th>Gender</th>\n",
              "      <td>0</td>\n",
              "      <td>0.0</td>\n",
              "      <td>object</td>\n",
              "    </tr>\n",
              "    <tr>\n",
              "      <th>Race</th>\n",
              "      <td>0</td>\n",
              "      <td>0.0</td>\n",
              "      <td>object</td>\n",
              "    </tr>\n",
              "    <tr>\n",
              "      <th>Ethnicity</th>\n",
              "      <td>0</td>\n",
              "      <td>0.0</td>\n",
              "      <td>object</td>\n",
              "    </tr>\n",
              "    <tr>\n",
              "      <th>Region</th>\n",
              "      <td>0</td>\n",
              "      <td>0.0</td>\n",
              "      <td>object</td>\n",
              "    </tr>\n",
              "    <tr>\n",
              "      <th>Age_Bucket</th>\n",
              "      <td>0</td>\n",
              "      <td>0.0</td>\n",
              "      <td>object</td>\n",
              "    </tr>\n",
              "    <tr>\n",
              "      <th>Ntm_Speciality</th>\n",
              "      <td>0</td>\n",
              "      <td>0.0</td>\n",
              "      <td>object</td>\n",
              "    </tr>\n",
              "    <tr>\n",
              "      <th>Ntm_Specialist_Flag</th>\n",
              "      <td>0</td>\n",
              "      <td>0.0</td>\n",
              "      <td>object</td>\n",
              "    </tr>\n",
              "    <tr>\n",
              "      <th>Ntm_Speciality_Bucket</th>\n",
              "      <td>0</td>\n",
              "      <td>0.0</td>\n",
              "      <td>object</td>\n",
              "    </tr>\n",
              "    <tr>\n",
              "      <th>Gluco_Record_Prior_Ntm</th>\n",
              "      <td>0</td>\n",
              "      <td>0.0</td>\n",
              "      <td>object</td>\n",
              "    </tr>\n",
              "    <tr>\n",
              "      <th>Gluco_Record_During_Rx</th>\n",
              "      <td>0</td>\n",
              "      <td>0.0</td>\n",
              "      <td>object</td>\n",
              "    </tr>\n",
              "    <tr>\n",
              "      <th>Dexa_Freq_During_Rx</th>\n",
              "      <td>0</td>\n",
              "      <td>0.0</td>\n",
              "      <td>int64</td>\n",
              "    </tr>\n",
              "    <tr>\n",
              "      <th>Dexa_During_Rx</th>\n",
              "      <td>0</td>\n",
              "      <td>0.0</td>\n",
              "      <td>object</td>\n",
              "    </tr>\n",
              "    <tr>\n",
              "      <th>Frag_Frac_Prior_Ntm</th>\n",
              "      <td>0</td>\n",
              "      <td>0.0</td>\n",
              "      <td>object</td>\n",
              "    </tr>\n",
              "    <tr>\n",
              "      <th>Frag_Frac_During_Rx</th>\n",
              "      <td>0</td>\n",
              "      <td>0.0</td>\n",
              "      <td>object</td>\n",
              "    </tr>\n",
              "    <tr>\n",
              "      <th>Risk_Segment_Prior_Ntm</th>\n",
              "      <td>0</td>\n",
              "      <td>0.0</td>\n",
              "      <td>object</td>\n",
              "    </tr>\n",
              "    <tr>\n",
              "      <th>Tscore_Bucket_Prior_Ntm</th>\n",
              "      <td>0</td>\n",
              "      <td>0.0</td>\n",
              "      <td>object</td>\n",
              "    </tr>\n",
              "    <tr>\n",
              "      <th>Risk_Segment_During_Rx</th>\n",
              "      <td>0</td>\n",
              "      <td>0.0</td>\n",
              "      <td>object</td>\n",
              "    </tr>\n",
              "    <tr>\n",
              "      <th>Tscore_Bucket_During_Rx</th>\n",
              "      <td>0</td>\n",
              "      <td>0.0</td>\n",
              "      <td>object</td>\n",
              "    </tr>\n",
              "    <tr>\n",
              "      <th>Change_T_Score</th>\n",
              "      <td>0</td>\n",
              "      <td>0.0</td>\n",
              "      <td>object</td>\n",
              "    </tr>\n",
              "    <tr>\n",
              "      <th>Change_Risk_Segment</th>\n",
              "      <td>0</td>\n",
              "      <td>0.0</td>\n",
              "      <td>object</td>\n",
              "    </tr>\n",
              "    <tr>\n",
              "      <th>Adherent_Flag</th>\n",
              "      <td>0</td>\n",
              "      <td>0.0</td>\n",
              "      <td>object</td>\n",
              "    </tr>\n",
              "    <tr>\n",
              "      <th>Idn_Indicator</th>\n",
              "      <td>0</td>\n",
              "      <td>0.0</td>\n",
              "      <td>object</td>\n",
              "    </tr>\n",
              "    <tr>\n",
              "      <th>Injectable_Experience_During_Rx</th>\n",
              "      <td>0</td>\n",
              "      <td>0.0</td>\n",
              "      <td>object</td>\n",
              "    </tr>\n",
              "    <tr>\n",
              "      <th>Comorb_Encounter_For_Screening_For_Malignant_Neoplasms</th>\n",
              "      <td>0</td>\n",
              "      <td>0.0</td>\n",
              "      <td>object</td>\n",
              "    </tr>\n",
              "    <tr>\n",
              "      <th>Comorb_Encounter_For_Immunization</th>\n",
              "      <td>0</td>\n",
              "      <td>0.0</td>\n",
              "      <td>object</td>\n",
              "    </tr>\n",
              "    <tr>\n",
              "      <th>Comorb_Encntr_For_General_Exam_W_O_Complaint,_Susp_Or_Reprtd_Dx</th>\n",
              "      <td>0</td>\n",
              "      <td>0.0</td>\n",
              "      <td>object</td>\n",
              "    </tr>\n",
              "    <tr>\n",
              "      <th>Comorb_Vitamin_D_Deficiency</th>\n",
              "      <td>0</td>\n",
              "      <td>0.0</td>\n",
              "      <td>object</td>\n",
              "    </tr>\n",
              "    <tr>\n",
              "      <th>Comorb_Other_Joint_Disorder_Not_Elsewhere_Classified</th>\n",
              "      <td>0</td>\n",
              "      <td>0.0</td>\n",
              "      <td>object</td>\n",
              "    </tr>\n",
              "    <tr>\n",
              "      <th>Comorb_Encntr_For_Oth_Sp_Exam_W_O_Complaint_Suspected_Or_Reprtd_Dx</th>\n",
              "      <td>0</td>\n",
              "      <td>0.0</td>\n",
              "      <td>object</td>\n",
              "    </tr>\n",
              "    <tr>\n",
              "      <th>Comorb_Long_Term_Current_Drug_Therapy</th>\n",
              "      <td>0</td>\n",
              "      <td>0.0</td>\n",
              "      <td>object</td>\n",
              "    </tr>\n",
              "    <tr>\n",
              "      <th>Comorb_Dorsalgia</th>\n",
              "      <td>0</td>\n",
              "      <td>0.0</td>\n",
              "      <td>object</td>\n",
              "    </tr>\n",
              "    <tr>\n",
              "      <th>Comorb_Personal_History_Of_Other_Diseases_And_Conditions</th>\n",
              "      <td>0</td>\n",
              "      <td>0.0</td>\n",
              "      <td>object</td>\n",
              "    </tr>\n",
              "    <tr>\n",
              "      <th>Comorb_Other_Disorders_Of_Bone_Density_And_Structure</th>\n",
              "      <td>0</td>\n",
              "      <td>0.0</td>\n",
              "      <td>object</td>\n",
              "    </tr>\n",
              "    <tr>\n",
              "      <th>Comorb_Disorders_of_lipoprotein_metabolism_and_other_lipidemias</th>\n",
              "      <td>0</td>\n",
              "      <td>0.0</td>\n",
              "      <td>object</td>\n",
              "    </tr>\n",
              "    <tr>\n",
              "      <th>Comorb_Osteoporosis_without_current_pathological_fracture</th>\n",
              "      <td>0</td>\n",
              "      <td>0.0</td>\n",
              "      <td>object</td>\n",
              "    </tr>\n",
              "    <tr>\n",
              "      <th>Comorb_Personal_history_of_malignant_neoplasm</th>\n",
              "      <td>0</td>\n",
              "      <td>0.0</td>\n",
              "      <td>object</td>\n",
              "    </tr>\n",
              "    <tr>\n",
              "      <th>Comorb_Gastro_esophageal_reflux_disease</th>\n",
              "      <td>0</td>\n",
              "      <td>0.0</td>\n",
              "      <td>object</td>\n",
              "    </tr>\n",
              "    <tr>\n",
              "      <th>Concom_Cholesterol_And_Triglyceride_Regulating_Preparations</th>\n",
              "      <td>0</td>\n",
              "      <td>0.0</td>\n",
              "      <td>object</td>\n",
              "    </tr>\n",
              "    <tr>\n",
              "      <th>Concom_Narcotics</th>\n",
              "      <td>0</td>\n",
              "      <td>0.0</td>\n",
              "      <td>object</td>\n",
              "    </tr>\n",
              "    <tr>\n",
              "      <th>Concom_Systemic_Corticosteroids_Plain</th>\n",
              "      <td>0</td>\n",
              "      <td>0.0</td>\n",
              "      <td>object</td>\n",
              "    </tr>\n",
              "    <tr>\n",
              "      <th>Concom_Anti_Depressants_And_Mood_Stabilisers</th>\n",
              "      <td>0</td>\n",
              "      <td>0.0</td>\n",
              "      <td>object</td>\n",
              "    </tr>\n",
              "    <tr>\n",
              "      <th>Concom_Fluoroquinolones</th>\n",
              "      <td>0</td>\n",
              "      <td>0.0</td>\n",
              "      <td>object</td>\n",
              "    </tr>\n",
              "    <tr>\n",
              "      <th>Concom_Cephalosporins</th>\n",
              "      <td>0</td>\n",
              "      <td>0.0</td>\n",
              "      <td>object</td>\n",
              "    </tr>\n",
              "    <tr>\n",
              "      <th>Concom_Macrolides_And_Similar_Types</th>\n",
              "      <td>0</td>\n",
              "      <td>0.0</td>\n",
              "      <td>object</td>\n",
              "    </tr>\n",
              "    <tr>\n",
              "      <th>Concom_Broad_Spectrum_Penicillins</th>\n",
              "      <td>0</td>\n",
              "      <td>0.0</td>\n",
              "      <td>object</td>\n",
              "    </tr>\n",
              "    <tr>\n",
              "      <th>Concom_Anaesthetics_General</th>\n",
              "      <td>0</td>\n",
              "      <td>0.0</td>\n",
              "      <td>object</td>\n",
              "    </tr>\n",
              "    <tr>\n",
              "      <th>Concom_Viral_Vaccines</th>\n",
              "      <td>0</td>\n",
              "      <td>0.0</td>\n",
              "      <td>object</td>\n",
              "    </tr>\n",
              "    <tr>\n",
              "      <th>Risk_Type_1_Insulin_Dependent_Diabetes</th>\n",
              "      <td>0</td>\n",
              "      <td>0.0</td>\n",
              "      <td>object</td>\n",
              "    </tr>\n",
              "    <tr>\n",
              "      <th>Risk_Osteogenesis_Imperfecta</th>\n",
              "      <td>0</td>\n",
              "      <td>0.0</td>\n",
              "      <td>object</td>\n",
              "    </tr>\n",
              "    <tr>\n",
              "      <th>Risk_Rheumatoid_Arthritis</th>\n",
              "      <td>0</td>\n",
              "      <td>0.0</td>\n",
              "      <td>object</td>\n",
              "    </tr>\n",
              "    <tr>\n",
              "      <th>Risk_Untreated_Chronic_Hyperthyroidism</th>\n",
              "      <td>0</td>\n",
              "      <td>0.0</td>\n",
              "      <td>object</td>\n",
              "    </tr>\n",
              "    <tr>\n",
              "      <th>Risk_Untreated_Chronic_Hypogonadism</th>\n",
              "      <td>0</td>\n",
              "      <td>0.0</td>\n",
              "      <td>object</td>\n",
              "    </tr>\n",
              "    <tr>\n",
              "      <th>Risk_Untreated_Early_Menopause</th>\n",
              "      <td>0</td>\n",
              "      <td>0.0</td>\n",
              "      <td>object</td>\n",
              "    </tr>\n",
              "    <tr>\n",
              "      <th>Risk_Patient_Parent_Fractured_Their_Hip</th>\n",
              "      <td>0</td>\n",
              "      <td>0.0</td>\n",
              "      <td>object</td>\n",
              "    </tr>\n",
              "    <tr>\n",
              "      <th>Risk_Smoking_Tobacco</th>\n",
              "      <td>0</td>\n",
              "      <td>0.0</td>\n",
              "      <td>object</td>\n",
              "    </tr>\n",
              "    <tr>\n",
              "      <th>Risk_Chronic_Malnutrition_Or_Malabsorption</th>\n",
              "      <td>0</td>\n",
              "      <td>0.0</td>\n",
              "      <td>object</td>\n",
              "    </tr>\n",
              "    <tr>\n",
              "      <th>Risk_Chronic_Liver_Disease</th>\n",
              "      <td>0</td>\n",
              "      <td>0.0</td>\n",
              "      <td>object</td>\n",
              "    </tr>\n",
              "    <tr>\n",
              "      <th>Risk_Family_History_Of_Osteoporosis</th>\n",
              "      <td>0</td>\n",
              "      <td>0.0</td>\n",
              "      <td>object</td>\n",
              "    </tr>\n",
              "    <tr>\n",
              "      <th>Risk_Low_Calcium_Intake</th>\n",
              "      <td>0</td>\n",
              "      <td>0.0</td>\n",
              "      <td>object</td>\n",
              "    </tr>\n",
              "    <tr>\n",
              "      <th>Risk_Vitamin_D_Insufficiency</th>\n",
              "      <td>0</td>\n",
              "      <td>0.0</td>\n",
              "      <td>object</td>\n",
              "    </tr>\n",
              "    <tr>\n",
              "      <th>Risk_Poor_Health_Frailty</th>\n",
              "      <td>0</td>\n",
              "      <td>0.0</td>\n",
              "      <td>object</td>\n",
              "    </tr>\n",
              "    <tr>\n",
              "      <th>Risk_Excessive_Thinness</th>\n",
              "      <td>0</td>\n",
              "      <td>0.0</td>\n",
              "      <td>object</td>\n",
              "    </tr>\n",
              "    <tr>\n",
              "      <th>Risk_Hysterectomy_Oophorectomy</th>\n",
              "      <td>0</td>\n",
              "      <td>0.0</td>\n",
              "      <td>object</td>\n",
              "    </tr>\n",
              "    <tr>\n",
              "      <th>Risk_Estrogen_Deficiency</th>\n",
              "      <td>0</td>\n",
              "      <td>0.0</td>\n",
              "      <td>object</td>\n",
              "    </tr>\n",
              "    <tr>\n",
              "      <th>Risk_Immobilization</th>\n",
              "      <td>0</td>\n",
              "      <td>0.0</td>\n",
              "      <td>object</td>\n",
              "    </tr>\n",
              "    <tr>\n",
              "      <th>Risk_Recurring_Falls</th>\n",
              "      <td>0</td>\n",
              "      <td>0.0</td>\n",
              "      <td>object</td>\n",
              "    </tr>\n",
              "    <tr>\n",
              "      <th>Count_Of_Risks</th>\n",
              "      <td>0</td>\n",
              "      <td>0.0</td>\n",
              "      <td>int64</td>\n",
              "    </tr>\n",
              "  </tbody>\n",
              "</table>\n",
              "</div>"
            ],
            "text/plain": [
              "                                                                    Total  \\\n",
              "Ptid                                                                    0   \n",
              "Persistency_Flag                                                        0   \n",
              "Gender                                                                  0   \n",
              "Race                                                                    0   \n",
              "Ethnicity                                                               0   \n",
              "Region                                                                  0   \n",
              "Age_Bucket                                                              0   \n",
              "Ntm_Speciality                                                          0   \n",
              "Ntm_Specialist_Flag                                                     0   \n",
              "Ntm_Speciality_Bucket                                                   0   \n",
              "Gluco_Record_Prior_Ntm                                                  0   \n",
              "Gluco_Record_During_Rx                                                  0   \n",
              "Dexa_Freq_During_Rx                                                     0   \n",
              "Dexa_During_Rx                                                          0   \n",
              "Frag_Frac_Prior_Ntm                                                     0   \n",
              "Frag_Frac_During_Rx                                                     0   \n",
              "Risk_Segment_Prior_Ntm                                                  0   \n",
              "Tscore_Bucket_Prior_Ntm                                                 0   \n",
              "Risk_Segment_During_Rx                                                  0   \n",
              "Tscore_Bucket_During_Rx                                                 0   \n",
              "Change_T_Score                                                          0   \n",
              "Change_Risk_Segment                                                     0   \n",
              "Adherent_Flag                                                           0   \n",
              "Idn_Indicator                                                           0   \n",
              "Injectable_Experience_During_Rx                                         0   \n",
              "Comorb_Encounter_For_Screening_For_Malignant_Neoplasms                  0   \n",
              "Comorb_Encounter_For_Immunization                                       0   \n",
              "Comorb_Encntr_For_General_Exam_W_O_Complaint,_Susp_Or_Reprtd_Dx         0   \n",
              "Comorb_Vitamin_D_Deficiency                                             0   \n",
              "Comorb_Other_Joint_Disorder_Not_Elsewhere_Classified                    0   \n",
              "Comorb_Encntr_For_Oth_Sp_Exam_W_O_Complaint_Suspected_Or_Reprtd_Dx      0   \n",
              "Comorb_Long_Term_Current_Drug_Therapy                                   0   \n",
              "Comorb_Dorsalgia                                                        0   \n",
              "Comorb_Personal_History_Of_Other_Diseases_And_Conditions                0   \n",
              "Comorb_Other_Disorders_Of_Bone_Density_And_Structure                    0   \n",
              "Comorb_Disorders_of_lipoprotein_metabolism_and_other_lipidemias         0   \n",
              "Comorb_Osteoporosis_without_current_pathological_fracture               0   \n",
              "Comorb_Personal_history_of_malignant_neoplasm                           0   \n",
              "Comorb_Gastro_esophageal_reflux_disease                                 0   \n",
              "Concom_Cholesterol_And_Triglyceride_Regulating_Preparations             0   \n",
              "Concom_Narcotics                                                        0   \n",
              "Concom_Systemic_Corticosteroids_Plain                                   0   \n",
              "Concom_Anti_Depressants_And_Mood_Stabilisers                            0   \n",
              "Concom_Fluoroquinolones                                                 0   \n",
              "Concom_Cephalosporins                                                   0   \n",
              "Concom_Macrolides_And_Similar_Types                                     0   \n",
              "Concom_Broad_Spectrum_Penicillins                                       0   \n",
              "Concom_Anaesthetics_General                                             0   \n",
              "Concom_Viral_Vaccines                                                   0   \n",
              "Risk_Type_1_Insulin_Dependent_Diabetes                                  0   \n",
              "Risk_Osteogenesis_Imperfecta                                            0   \n",
              "Risk_Rheumatoid_Arthritis                                               0   \n",
              "Risk_Untreated_Chronic_Hyperthyroidism                                  0   \n",
              "Risk_Untreated_Chronic_Hypogonadism                                     0   \n",
              "Risk_Untreated_Early_Menopause                                          0   \n",
              "Risk_Patient_Parent_Fractured_Their_Hip                                 0   \n",
              "Risk_Smoking_Tobacco                                                    0   \n",
              "Risk_Chronic_Malnutrition_Or_Malabsorption                              0   \n",
              "Risk_Chronic_Liver_Disease                                              0   \n",
              "Risk_Family_History_Of_Osteoporosis                                     0   \n",
              "Risk_Low_Calcium_Intake                                                 0   \n",
              "Risk_Vitamin_D_Insufficiency                                            0   \n",
              "Risk_Poor_Health_Frailty                                                0   \n",
              "Risk_Excessive_Thinness                                                 0   \n",
              "Risk_Hysterectomy_Oophorectomy                                          0   \n",
              "Risk_Estrogen_Deficiency                                                0   \n",
              "Risk_Immobilization                                                     0   \n",
              "Risk_Recurring_Falls                                                    0   \n",
              "Count_Of_Risks                                                          0   \n",
              "\n",
              "                                                                    Percent  \\\n",
              "Ptid                                                                    0.0   \n",
              "Persistency_Flag                                                        0.0   \n",
              "Gender                                                                  0.0   \n",
              "Race                                                                    0.0   \n",
              "Ethnicity                                                               0.0   \n",
              "Region                                                                  0.0   \n",
              "Age_Bucket                                                              0.0   \n",
              "Ntm_Speciality                                                          0.0   \n",
              "Ntm_Specialist_Flag                                                     0.0   \n",
              "Ntm_Speciality_Bucket                                                   0.0   \n",
              "Gluco_Record_Prior_Ntm                                                  0.0   \n",
              "Gluco_Record_During_Rx                                                  0.0   \n",
              "Dexa_Freq_During_Rx                                                     0.0   \n",
              "Dexa_During_Rx                                                          0.0   \n",
              "Frag_Frac_Prior_Ntm                                                     0.0   \n",
              "Frag_Frac_During_Rx                                                     0.0   \n",
              "Risk_Segment_Prior_Ntm                                                  0.0   \n",
              "Tscore_Bucket_Prior_Ntm                                                 0.0   \n",
              "Risk_Segment_During_Rx                                                  0.0   \n",
              "Tscore_Bucket_During_Rx                                                 0.0   \n",
              "Change_T_Score                                                          0.0   \n",
              "Change_Risk_Segment                                                     0.0   \n",
              "Adherent_Flag                                                           0.0   \n",
              "Idn_Indicator                                                           0.0   \n",
              "Injectable_Experience_During_Rx                                         0.0   \n",
              "Comorb_Encounter_For_Screening_For_Malignant_Neoplasms                  0.0   \n",
              "Comorb_Encounter_For_Immunization                                       0.0   \n",
              "Comorb_Encntr_For_General_Exam_W_O_Complaint,_Susp_Or_Reprtd_Dx         0.0   \n",
              "Comorb_Vitamin_D_Deficiency                                             0.0   \n",
              "Comorb_Other_Joint_Disorder_Not_Elsewhere_Classified                    0.0   \n",
              "Comorb_Encntr_For_Oth_Sp_Exam_W_O_Complaint_Suspected_Or_Reprtd_Dx      0.0   \n",
              "Comorb_Long_Term_Current_Drug_Therapy                                   0.0   \n",
              "Comorb_Dorsalgia                                                        0.0   \n",
              "Comorb_Personal_History_Of_Other_Diseases_And_Conditions                0.0   \n",
              "Comorb_Other_Disorders_Of_Bone_Density_And_Structure                    0.0   \n",
              "Comorb_Disorders_of_lipoprotein_metabolism_and_other_lipidemias         0.0   \n",
              "Comorb_Osteoporosis_without_current_pathological_fracture               0.0   \n",
              "Comorb_Personal_history_of_malignant_neoplasm                           0.0   \n",
              "Comorb_Gastro_esophageal_reflux_disease                                 0.0   \n",
              "Concom_Cholesterol_And_Triglyceride_Regulating_Preparations             0.0   \n",
              "Concom_Narcotics                                                        0.0   \n",
              "Concom_Systemic_Corticosteroids_Plain                                   0.0   \n",
              "Concom_Anti_Depressants_And_Mood_Stabilisers                            0.0   \n",
              "Concom_Fluoroquinolones                                                 0.0   \n",
              "Concom_Cephalosporins                                                   0.0   \n",
              "Concom_Macrolides_And_Similar_Types                                     0.0   \n",
              "Concom_Broad_Spectrum_Penicillins                                       0.0   \n",
              "Concom_Anaesthetics_General                                             0.0   \n",
              "Concom_Viral_Vaccines                                                   0.0   \n",
              "Risk_Type_1_Insulin_Dependent_Diabetes                                  0.0   \n",
              "Risk_Osteogenesis_Imperfecta                                            0.0   \n",
              "Risk_Rheumatoid_Arthritis                                               0.0   \n",
              "Risk_Untreated_Chronic_Hyperthyroidism                                  0.0   \n",
              "Risk_Untreated_Chronic_Hypogonadism                                     0.0   \n",
              "Risk_Untreated_Early_Menopause                                          0.0   \n",
              "Risk_Patient_Parent_Fractured_Their_Hip                                 0.0   \n",
              "Risk_Smoking_Tobacco                                                    0.0   \n",
              "Risk_Chronic_Malnutrition_Or_Malabsorption                              0.0   \n",
              "Risk_Chronic_Liver_Disease                                              0.0   \n",
              "Risk_Family_History_Of_Osteoporosis                                     0.0   \n",
              "Risk_Low_Calcium_Intake                                                 0.0   \n",
              "Risk_Vitamin_D_Insufficiency                                            0.0   \n",
              "Risk_Poor_Health_Frailty                                                0.0   \n",
              "Risk_Excessive_Thinness                                                 0.0   \n",
              "Risk_Hysterectomy_Oophorectomy                                          0.0   \n",
              "Risk_Estrogen_Deficiency                                                0.0   \n",
              "Risk_Immobilization                                                     0.0   \n",
              "Risk_Recurring_Falls                                                    0.0   \n",
              "Count_Of_Risks                                                          0.0   \n",
              "\n",
              "                                                                     Types  \n",
              "Ptid                                                                object  \n",
              "Persistency_Flag                                                    object  \n",
              "Gender                                                              object  \n",
              "Race                                                                object  \n",
              "Ethnicity                                                           object  \n",
              "Region                                                              object  \n",
              "Age_Bucket                                                          object  \n",
              "Ntm_Speciality                                                      object  \n",
              "Ntm_Specialist_Flag                                                 object  \n",
              "Ntm_Speciality_Bucket                                               object  \n",
              "Gluco_Record_Prior_Ntm                                              object  \n",
              "Gluco_Record_During_Rx                                              object  \n",
              "Dexa_Freq_During_Rx                                                  int64  \n",
              "Dexa_During_Rx                                                      object  \n",
              "Frag_Frac_Prior_Ntm                                                 object  \n",
              "Frag_Frac_During_Rx                                                 object  \n",
              "Risk_Segment_Prior_Ntm                                              object  \n",
              "Tscore_Bucket_Prior_Ntm                                             object  \n",
              "Risk_Segment_During_Rx                                              object  \n",
              "Tscore_Bucket_During_Rx                                             object  \n",
              "Change_T_Score                                                      object  \n",
              "Change_Risk_Segment                                                 object  \n",
              "Adherent_Flag                                                       object  \n",
              "Idn_Indicator                                                       object  \n",
              "Injectable_Experience_During_Rx                                     object  \n",
              "Comorb_Encounter_For_Screening_For_Malignant_Neoplasms              object  \n",
              "Comorb_Encounter_For_Immunization                                   object  \n",
              "Comorb_Encntr_For_General_Exam_W_O_Complaint,_Susp_Or_Reprtd_Dx     object  \n",
              "Comorb_Vitamin_D_Deficiency                                         object  \n",
              "Comorb_Other_Joint_Disorder_Not_Elsewhere_Classified                object  \n",
              "Comorb_Encntr_For_Oth_Sp_Exam_W_O_Complaint_Suspected_Or_Reprtd_Dx  object  \n",
              "Comorb_Long_Term_Current_Drug_Therapy                               object  \n",
              "Comorb_Dorsalgia                                                    object  \n",
              "Comorb_Personal_History_Of_Other_Diseases_And_Conditions            object  \n",
              "Comorb_Other_Disorders_Of_Bone_Density_And_Structure                object  \n",
              "Comorb_Disorders_of_lipoprotein_metabolism_and_other_lipidemias     object  \n",
              "Comorb_Osteoporosis_without_current_pathological_fracture           object  \n",
              "Comorb_Personal_history_of_malignant_neoplasm                       object  \n",
              "Comorb_Gastro_esophageal_reflux_disease                             object  \n",
              "Concom_Cholesterol_And_Triglyceride_Regulating_Preparations         object  \n",
              "Concom_Narcotics                                                    object  \n",
              "Concom_Systemic_Corticosteroids_Plain                               object  \n",
              "Concom_Anti_Depressants_And_Mood_Stabilisers                        object  \n",
              "Concom_Fluoroquinolones                                             object  \n",
              "Concom_Cephalosporins                                               object  \n",
              "Concom_Macrolides_And_Similar_Types                                 object  \n",
              "Concom_Broad_Spectrum_Penicillins                                   object  \n",
              "Concom_Anaesthetics_General                                         object  \n",
              "Concom_Viral_Vaccines                                               object  \n",
              "Risk_Type_1_Insulin_Dependent_Diabetes                              object  \n",
              "Risk_Osteogenesis_Imperfecta                                        object  \n",
              "Risk_Rheumatoid_Arthritis                                           object  \n",
              "Risk_Untreated_Chronic_Hyperthyroidism                              object  \n",
              "Risk_Untreated_Chronic_Hypogonadism                                 object  \n",
              "Risk_Untreated_Early_Menopause                                      object  \n",
              "Risk_Patient_Parent_Fractured_Their_Hip                             object  \n",
              "Risk_Smoking_Tobacco                                                object  \n",
              "Risk_Chronic_Malnutrition_Or_Malabsorption                          object  \n",
              "Risk_Chronic_Liver_Disease                                          object  \n",
              "Risk_Family_History_Of_Osteoporosis                                 object  \n",
              "Risk_Low_Calcium_Intake                                             object  \n",
              "Risk_Vitamin_D_Insufficiency                                        object  \n",
              "Risk_Poor_Health_Frailty                                            object  \n",
              "Risk_Excessive_Thinness                                             object  \n",
              "Risk_Hysterectomy_Oophorectomy                                      object  \n",
              "Risk_Estrogen_Deficiency                                            object  \n",
              "Risk_Immobilization                                                 object  \n",
              "Risk_Recurring_Falls                                                object  \n",
              "Count_Of_Risks                                                       int64  "
            ]
          },
          "metadata": {},
          "execution_count": 14
        }
      ]
    },
    {
      "cell_type": "markdown",
      "metadata": {
        "id": "VAJ9KZwIRGmP"
      },
      "source": [
        "Based on the quick checking, there is no missing data in the df!"
      ]
    },
    {
      "cell_type": "markdown",
      "metadata": {
        "id": "ghT-0qGKf8Ms"
      },
      "source": [
        "## **Outlier Analysis**"
      ]
    },
    {
      "cell_type": "markdown",
      "metadata": {
        "id": "27i7uL-5gCTE"
      },
      "source": [
        "Because we only have two numerical columns so we will focus only in these two columns"
      ]
    },
    {
      "cell_type": "code",
      "metadata": {
        "colab": {
          "base_uri": "https://localhost:8080/",
          "height": 112
        },
        "id": "nuwzBgCuRH2W",
        "outputId": "0d4cf082-331b-4a2f-a376-c06adde38851"
      },
      "source": [
        "df.corr(method=\"pearson\", min_periods=1)"
      ],
      "execution_count": null,
      "outputs": [
        {
          "output_type": "execute_result",
          "data": {
            "text/html": [
              "<div>\n",
              "<style scoped>\n",
              "    .dataframe tbody tr th:only-of-type {\n",
              "        vertical-align: middle;\n",
              "    }\n",
              "\n",
              "    .dataframe tbody tr th {\n",
              "        vertical-align: top;\n",
              "    }\n",
              "\n",
              "    .dataframe thead th {\n",
              "        text-align: right;\n",
              "    }\n",
              "</style>\n",
              "<table border=\"1\" class=\"dataframe\">\n",
              "  <thead>\n",
              "    <tr style=\"text-align: right;\">\n",
              "      <th></th>\n",
              "      <th>Dexa_Freq_During_Rx</th>\n",
              "      <th>Count_Of_Risks</th>\n",
              "    </tr>\n",
              "  </thead>\n",
              "  <tbody>\n",
              "    <tr>\n",
              "      <th>Dexa_Freq_During_Rx</th>\n",
              "      <td>1.000000</td>\n",
              "      <td>0.013964</td>\n",
              "    </tr>\n",
              "    <tr>\n",
              "      <th>Count_Of_Risks</th>\n",
              "      <td>0.013964</td>\n",
              "      <td>1.000000</td>\n",
              "    </tr>\n",
              "  </tbody>\n",
              "</table>\n",
              "</div>"
            ],
            "text/plain": [
              "                     Dexa_Freq_During_Rx  Count_Of_Risks\n",
              "Dexa_Freq_During_Rx             1.000000        0.013964\n",
              "Count_Of_Risks                  0.013964        1.000000"
            ]
          },
          "metadata": {},
          "execution_count": 15
        }
      ]
    },
    {
      "cell_type": "markdown",
      "metadata": {
        "id": "Bhm-w7WjgIHN"
      },
      "source": [
        "## **Identifying Outliers with Interquartile Range (IQR)**"
      ]
    },
    {
      "cell_type": "markdown",
      "metadata": {
        "id": "c7lGAfPUgMWa"
      },
      "source": [
        "The difference between the 75th and 25th percentiles is being used to compute the interquartile range (IQR), which is a measure of statistical dispersion. IQR = Q3 Q1 is the formula for calculating it.\n",
        "\n",
        "For each of the variables in the df, the lines of code below calculate and report the interquartile range."
      ]
    },
    {
      "cell_type": "code",
      "metadata": {
        "colab": {
          "base_uri": "https://localhost:8080/"
        },
        "id": "Uge08d8wgNZ4",
        "outputId": "bf0128c1-053b-41f4-891a-fe40ed7f0e38"
      },
      "source": [
        "Q1 = df.quantile(0.25)\n",
        "Q3 = df.quantile(0.75)\n",
        "IQR = Q3-Q1\n",
        "print(IQR)"
      ],
      "execution_count": null,
      "outputs": [
        {
          "output_type": "stream",
          "name": "stdout",
          "text": [
            "Dexa_Freq_During_Rx    3.0\n",
            "Count_Of_Risks         2.0\n",
            "dtype: float64\n"
          ]
        }
      ]
    },
    {
      "cell_type": "markdown",
      "metadata": {
        "id": "K8agAOQvgZTw"
      },
      "source": [
        "The above output prints the IQR scores, which can be used to detect outliers. It suggests that both these variables have outliers in their data. Let's check different approaches before implementing solutions to deal with outliers in these variable."
      ]
    },
    {
      "cell_type": "markdown",
      "metadata": {
        "id": "EzrOzRh-gbl2"
      },
      "source": [
        "# **Identifying Outliers with Skewness and Kurtosis Value**"
      ]
    },
    {
      "cell_type": "code",
      "metadata": {
        "colab": {
          "base_uri": "https://localhost:8080/"
        },
        "id": "KHUqrsN0gbDl",
        "outputId": "b3235cd2-248e-477d-c558-913b028bfdad"
      },
      "source": [
        "#How much is the skewness\n",
        "print(\"Dexa_Freq_During_Rx skewness: \",df[\"Dexa_Freq_During_Rx\"].skew())\n",
        "print(\"Dexa_Freq_During_Rx Kurtosis: \",df[\"Dexa_Freq_During_Rx\"].kurt())"
      ],
      "execution_count": null,
      "outputs": [
        {
          "output_type": "stream",
          "name": "stdout",
          "text": [
            "Dexa_Freq_During_Rx skewness:  6.8087302112992285\n",
            "Dexa_Freq_During_Rx Kurtosis:  74.75837754795428\n"
          ]
        }
      ]
    },
    {
      "cell_type": "code",
      "metadata": {
        "colab": {
          "base_uri": "https://localhost:8080/"
        },
        "id": "fbEv5W87gla_",
        "outputId": "e2c30b30-7fcc-4c69-d4d9-a171a9021b67"
      },
      "source": [
        "#How much is the skewness\n",
        "print(\"Count of risks skewness: \",df[\"Count_Of_Risks\"].skew())\n",
        "print(\"Count of risks Kurtosis: \",df[\"Count_Of_Risks\"].kurt())"
      ],
      "execution_count": null,
      "outputs": [
        {
          "output_type": "stream",
          "name": "stdout",
          "text": [
            "Count of risks skewness:  0.8797905232898707\n",
            "Count of risks Kurtosis:  0.9004859968892842\n"
          ]
        }
      ]
    },
    {
      "cell_type": "markdown",
      "metadata": {
        "id": "5a8geU-ggpfJ"
      },
      "source": [
        "For \"Dexa Freq During Rx,\" the value of skewness and Kurtosis suggest that this variable has a lot of outliers, which takes into account a lot of outliers. Furthermore, the data for \"Count of Risk\" has a moderate skewness and is moderately kurtosis(Platykurtic), indicating that there are few outliers.\n",
        "\n",
        "Let's visualize these variable to vertify the outliers in these variable."
      ]
    },
    {
      "cell_type": "markdown",
      "metadata": {
        "id": "AhPuhVeXgsNr"
      },
      "source": [
        "## **Identifying Outliers with Boxplot**"
      ]
    },
    {
      "cell_type": "code",
      "metadata": {
        "colab": {
          "base_uri": "https://localhost:8080/",
          "height": 278
        },
        "id": "EoIY7gpwguCW",
        "outputId": "194e5886-f83b-41e9-a730-b29066fea0e5"
      },
      "source": [
        "#Outliers\n",
        "fig = plt.figure(figsize=(20,5))\n",
        "plt.subplot(121)\n",
        "sns.boxplot(x= df['Dexa_Freq_During_Rx'], y = df['Persistency_Flag'])\n",
        "plt.title('Dexa_Freq_During_Rx', fontsize=20)\n",
        "plt.subplot(122)\n",
        "sns.boxplot(x= df['Count_Of_Risks'],  y = df['Persistency_Flag'])\n",
        "plt.title('Count_of_Risks', fontsize=20)\n",
        "plt.show()"
      ],
      "execution_count": null,
      "outputs": [
        {
          "output_type": "display_data",
          "data": {
            "image/png": "[encoded data removed]",
            "text/plain": [
              "<Figure size 1440x360 with 2 Axes>"
            ]
          },
          "metadata": {
            "needs_background": "light"
          }
        }
      ]
    },
    {
      "cell_type": "markdown",
      "metadata": {
        "id": "IUhd5I_Cg32M"
      },
      "source": [
        "As we can see on these graphs, it is clearly to conclude that both Dexa_Freq_During_Rx and Count_of_Risks variables have outliers. Therefore, we will implement solutions to deal with this issue"
      ]
    },
    {
      "cell_type": "markdown",
      "metadata": {
        "id": "lNdqjd-Vg7HP"
      },
      "source": [
        "## **Data Transformation to resolve outliers**"
      ]
    },
    {
      "cell_type": "markdown",
      "metadata": {
        "id": "UhGejvq4g-bZ"
      },
      "source": [
        "My first approach to deal with the skewness and outliers for these variables is using IQR Score. To remove outliers, this approach uses the IQR values calculated before. Anything outside of the range of (Q1 - 1.5 IQR) and (Q3 + 1.5 IQR) is considered an outlier and should be eliminated.\n",
        "\n",
        "In this project, I will use RobustScaler() to scale the values of both Dexa_Freq_During_Rx and Count_of_Risks, and remove any data outside of the range of (Q1 - 1.5 IQR) and (Q3 + 1.5 IQR) or two whiskers."
      ]
    },
    {
      "cell_type": "code",
      "metadata": {
        "id": "pqX90ONQhBUu"
      },
      "source": [
        "# For Dexa_Freq_During_Rx\n",
        "scaler = RobustScaler()\n",
        "df['Dexa_Freq_During_Rx'] = scaler.fit_transform(df['Dexa_Freq_During_Rx'].values.reshape(-1,1))"
      ],
      "execution_count": null,
      "outputs": []
    },
    {
      "cell_type": "code",
      "metadata": {
        "colab": {
          "base_uri": "https://localhost:8080/"
        },
        "id": "4oEFKehfhQbF",
        "outputId": "9cfdd354-e2c8-4a69-eaf9-b4e8c14fc33a"
      },
      "source": [
        "# Identify the IQR for Dexa_Freq_During_Rx\n",
        "''' Detection '''\n",
        "# IQR\n",
        "Q1 = np.percentile(df['Dexa_Freq_During_Rx'], 25, \n",
        "                   interpolation = 'midpoint') \n",
        "\n",
        "Q3 = np.percentile(df['Dexa_Freq_During_Rx'], 75,\n",
        "                   interpolation = 'midpoint') \n",
        "IQR = Q3 - Q1 \n",
        "print(\"Old Shape: \", df.shape) "
      ],
      "execution_count": null,
      "outputs": [
        {
          "output_type": "stream",
          "name": "stdout",
          "text": [
            "Old Shape:  (3424, 69)\n"
          ]
        }
      ]
    },
    {
      "cell_type": "code",
      "metadata": {
        "id": "obaB6otvhZR3"
      },
      "source": [
        "# Identify the Range of IQR upper and lower bound  \n",
        "# Upper bound\n",
        "upper = np.where(df['Dexa_Freq_During_Rx'] >= (Q3+1.5*IQR))\n",
        "# Lower bound\n",
        "lower = np.where(df['Dexa_Freq_During_Rx'] <= (Q1-1.5*IQR)) "
      ],
      "execution_count": null,
      "outputs": []
    },
    {
      "cell_type": "code",
      "metadata": {
        "colab": {
          "base_uri": "https://localhost:8080/"
        },
        "id": "iOTlKuprheDZ",
        "outputId": "66cc2a34-c3e9-433e-98d3-3e3f596436b1"
      },
      "source": [
        "# Any data out of this upper and lower bound will be removed\n",
        "''' Removing the Outliers '''\n",
        "df.drop(upper[0], inplace = True)\n",
        "df.drop(lower[0], inplace = True)\n",
        "\n",
        "# Checking New Shape\n",
        "print(\"New Shape: \", df.shape)\n",
        "df = df.reset_index(drop=True)"
      ],
      "execution_count": null,
      "outputs": [
        {
          "output_type": "stream",
          "name": "stdout",
          "text": [
            "New Shape:  (2964, 69)\n"
          ]
        }
      ]
    },
    {
      "cell_type": "code",
      "metadata": {
        "id": "5tjVidk5hoj8"
      },
      "source": [
        "# For Count of Risks Variable\n",
        "scaler = RobustScaler()\n",
        "df['Count_Of_Risks'] = scaler.fit_transform(df['Count_Of_Risks'].values.reshape(-1,1))"
      ],
      "execution_count": null,
      "outputs": []
    },
    {
      "cell_type": "code",
      "metadata": {
        "colab": {
          "base_uri": "https://localhost:8080/"
        },
        "id": "Z_-9iD2ghsqo",
        "outputId": "1d9cd4ee-0403-4ee5-f672-9fb1857e0455"
      },
      "source": [
        "# Identify the IQR for  Count of Risks\n",
        "''' Detection '''\n",
        "# IQR\n",
        "Q1 = np.percentile(df['Count_Of_Risks'], 25, \n",
        "                   interpolation = 'midpoint') \n",
        "  \n",
        "Q3 = np.percentile(df['Count_Of_Risks'], 75,\n",
        "                   interpolation = 'midpoint') \n",
        "IQR = Q3 - Q1 \n",
        "print(\"Old Shape: \", df.shape) "
      ],
      "execution_count": null,
      "outputs": [
        {
          "output_type": "stream",
          "name": "stdout",
          "text": [
            "Old Shape:  (2964, 69)\n"
          ]
        }
      ]
    },
    {
      "cell_type": "code",
      "metadata": {
        "id": "TLjZ63X4hzEn"
      },
      "source": [
        "# Identify the Range of IQR upper and lower bound  \n",
        "# Upper bound\n",
        "upper = np.where(df['Count_Of_Risks'] >= (Q3+1.5*IQR))\n",
        "# Lower bound\n",
        "lower = np.where(df['Count_Of_Risks'] <= (Q1-1.5*IQR)) "
      ],
      "execution_count": null,
      "outputs": []
    },
    {
      "cell_type": "code",
      "metadata": {
        "colab": {
          "base_uri": "https://localhost:8080/"
        },
        "id": "f92wDQNdh3Z8",
        "outputId": "a0d4c9e7-105d-4e43-8144-b1268f25f2bc"
      },
      "source": [
        "# Any data out of this upper and lower bound will be removed\n",
        "''' Removing the Outliers '''\n",
        "df.drop(upper[0], inplace = True)\n",
        "df.drop(lower[0], inplace = True)\n",
        "\n",
        "# Checking New Shape\n",
        "print(\"New Shape: \", df.shape)\n",
        "df = df.reset_index(drop=True)"
      ],
      "execution_count": null,
      "outputs": [
        {
          "output_type": "stream",
          "name": "stdout",
          "text": [
            "New Shape:  (2942, 69)\n"
          ]
        }
      ]
    },
    {
      "cell_type": "markdown",
      "metadata": {
        "id": "ZF2YYGsyh_1W"
      },
      "source": [
        "## **Data Wrangling , Transformation and Standardization**"
      ]
    },
    {
      "cell_type": "markdown",
      "metadata": {
        "id": "pPwgriWViCZH"
      },
      "source": [
        "## Assign Value to Y and N, and Persistent and Non-Persistent"
      ]
    },
    {
      "cell_type": "markdown",
      "metadata": {
        "id": "IURQmBQIiE21"
      },
      "source": [
        "**Encode Categorical Value**"
      ]
    },
    {
      "cell_type": "code",
      "metadata": {
        "colab": {
          "base_uri": "https://localhost:8080/"
        },
        "id": "c7VRzRehTTft",
        "outputId": "9c2a9a73-4e09-4fa5-f298-32e99f1c86b4"
      },
      "source": [
        "cat_cols = df.select_dtypes(\"object\").columns\n",
        "cat_cols"
      ],
      "execution_count": null,
      "outputs": [
        {
          "output_type": "execute_result",
          "data": {
            "text/plain": [
              "Index(['Ptid', 'Persistency_Flag', 'Gender', 'Race', 'Ethnicity', 'Region',\n",
              "       'Age_Bucket', 'Ntm_Speciality', 'Ntm_Specialist_Flag',\n",
              "       'Ntm_Speciality_Bucket', 'Gluco_Record_Prior_Ntm',\n",
              "       'Gluco_Record_During_Rx', 'Dexa_During_Rx', 'Frag_Frac_Prior_Ntm',\n",
              "       'Frag_Frac_During_Rx', 'Risk_Segment_Prior_Ntm',\n",
              "       'Tscore_Bucket_Prior_Ntm', 'Risk_Segment_During_Rx',\n",
              "       'Tscore_Bucket_During_Rx', 'Change_T_Score', 'Change_Risk_Segment',\n",
              "       'Adherent_Flag', 'Idn_Indicator', 'Injectable_Experience_During_Rx',\n",
              "       'Comorb_Encounter_For_Screening_For_Malignant_Neoplasms',\n",
              "       'Comorb_Encounter_For_Immunization',\n",
              "       'Comorb_Encntr_For_General_Exam_W_O_Complaint,_Susp_Or_Reprtd_Dx',\n",
              "       'Comorb_Vitamin_D_Deficiency',\n",
              "       'Comorb_Other_Joint_Disorder_Not_Elsewhere_Classified',\n",
              "       'Comorb_Encntr_For_Oth_Sp_Exam_W_O_Complaint_Suspected_Or_Reprtd_Dx',\n",
              "       'Comorb_Long_Term_Current_Drug_Therapy', 'Comorb_Dorsalgia',\n",
              "       'Comorb_Personal_History_Of_Other_Diseases_And_Conditions',\n",
              "       'Comorb_Other_Disorders_Of_Bone_Density_And_Structure',\n",
              "       'Comorb_Disorders_of_lipoprotein_metabolism_and_other_lipidemias',\n",
              "       'Comorb_Osteoporosis_without_current_pathological_fracture',\n",
              "       'Comorb_Personal_history_of_malignant_neoplasm',\n",
              "       'Comorb_Gastro_esophageal_reflux_disease',\n",
              "       'Concom_Cholesterol_And_Triglyceride_Regulating_Preparations',\n",
              "       'Concom_Narcotics', 'Concom_Systemic_Corticosteroids_Plain',\n",
              "       'Concom_Anti_Depressants_And_Mood_Stabilisers',\n",
              "       'Concom_Fluoroquinolones', 'Concom_Cephalosporins',\n",
              "       'Concom_Macrolides_And_Similar_Types',\n",
              "       'Concom_Broad_Spectrum_Penicillins', 'Concom_Anaesthetics_General',\n",
              "       'Concom_Viral_Vaccines', 'Risk_Type_1_Insulin_Dependent_Diabetes',\n",
              "       'Risk_Osteogenesis_Imperfecta', 'Risk_Rheumatoid_Arthritis',\n",
              "       'Risk_Untreated_Chronic_Hyperthyroidism',\n",
              "       'Risk_Untreated_Chronic_Hypogonadism', 'Risk_Untreated_Early_Menopause',\n",
              "       'Risk_Patient_Parent_Fractured_Their_Hip', 'Risk_Smoking_Tobacco',\n",
              "       'Risk_Chronic_Malnutrition_Or_Malabsorption',\n",
              "       'Risk_Chronic_Liver_Disease', 'Risk_Family_History_Of_Osteoporosis',\n",
              "       'Risk_Low_Calcium_Intake', 'Risk_Vitamin_D_Insufficiency',\n",
              "       'Risk_Poor_Health_Frailty', 'Risk_Excessive_Thinness',\n",
              "       'Risk_Hysterectomy_Oophorectomy', 'Risk_Estrogen_Deficiency',\n",
              "       'Risk_Immobilization', 'Risk_Recurring_Falls'],\n",
              "      dtype='object')"
            ]
          },
          "metadata": {},
          "execution_count": 125
        }
      ]
    },
    {
      "cell_type": "code",
      "metadata": {
        "id": "--2BCtnyUSDn"
      },
      "source": [
        "#For Persistency flag,Gender replace Persisent and Non-persistent with 0,1 \n",
        "Persistency= df['Persistency_Flag'].replace(['Persistent','Non-Persistent'],[0,1])\n",
        "print(Persistency)\n",
        "Gender = df['Gender'].replace(['Male','Female'],[0,1])\n",
        "df.insert(1,'Persistency_flag',Persistency)\n",
        "df.insert(4,'gender',Gender)"
      ],
      "execution_count": null,
      "outputs": []
    },
    {
      "cell_type": "code",
      "metadata": {
        "id": "5R8keB3rUZer"
      },
      "source": [
        "#drop some columns\n",
        "df = df.drop(columns = ['Ptid', 'Persistency_Flag','Ntm_Speciality','Gender', 'Ntm_Speciality_Bucket'])"
      ],
      "execution_count": null,
      "outputs": []
    },
    {
      "cell_type": "code",
      "metadata": {
        "id": "Zqa67A8QUd0L"
      },
      "source": [
        "cat_cols = cat_cols.drop(labels =['Ptid', 'Persistency_Flag','Ntm_Speciality','Gender', 'Ntm_Speciality_Bucket'] )"
      ],
      "execution_count": null,
      "outputs": []
    },
    {
      "cell_type": "code",
      "metadata": {
        "colab": {
          "base_uri": "https://localhost:8080/"
        },
        "id": "InWNCCE_Ufpx",
        "outputId": "0045eb39-0fe2-4d97-8e68-d42cb23561c6"
      },
      "source": [
        "print(np.shape(df))"
      ],
      "execution_count": null,
      "outputs": [
        {
          "output_type": "stream",
          "name": "stdout",
          "text": [
            "(3424, 66)\n"
          ]
        }
      ]
    },
    {
      "cell_type": "code",
      "metadata": {
        "id": "Rz9ZGmnJUjCm"
      },
      "source": [
        "df = pd.get_dummies(df, columns = cat_cols)\n",
        "df"
      ],
      "execution_count": null,
      "outputs": []
    },
    {
      "cell_type": "code",
      "metadata": {
        "id": "iLyZpuNzXB7F"
      },
      "source": [
        "df.head()"
      ],
      "execution_count": null,
      "outputs": []
    },
    {
      "cell_type": "markdown",
      "metadata": {
        "id": "49mB11lenWhj"
      },
      "source": [
        "## **Model XGBoost**"
      ]
    },
    {
      "cell_type": "code",
      "metadata": {
        "id": "sQ4507LnLnro"
      },
      "source": [
        "from numpy import loadtxt\n",
        "from xgboost import XGBClassifier\n",
        "from sklearn.model_selection import train_test_split\n",
        "from sklearn.metrics import accuracy_score"
      ],
      "execution_count": null,
      "outputs": []
    },
    {
      "cell_type": "code",
      "metadata": {
        "id": "QuFg21acOR4R"
      },
      "source": [
        "#Remove error for \"[, ]\" or \"<\" in column names to be able to use model.fit later (otherwise it displays an error):\n",
        "import re\n",
        "regex = re.compile(r\"\\[|\\]|<\", re.IGNORECASE)\n",
        "df.columns = [regex.sub(\"_\", col) if any(x in str(col) for x in set(('[', ']', '<'))) else col for col in df.columns.values]\n"
      ],
      "execution_count": null,
      "outputs": []
    },
    {
      "cell_type": "code",
      "metadata": {
        "id": "IA_vUK8bK0vr"
      },
      "source": [
        "# split data into X and y\n",
        "X = df.drop(['Persistency_flag',], axis=1)\n",
        "Y = df['Persistency_flag']\n"
      ],
      "execution_count": null,
      "outputs": []
    },
    {
      "cell_type": "code",
      "metadata": {
        "id": "YKxmMpENLE5k"
      },
      "source": [
        "# split data into train and test sets\n",
        "seed = 7\n",
        "test_size = 0.30\n",
        "X_train, X_test, y_train, y_test = train_test_split(X, Y, test_size=test_size, random_state=seed)"
      ],
      "execution_count": null,
      "outputs": []
    },
    {
      "cell_type": "code",
      "metadata": {
        "colab": {
          "base_uri": "https://localhost:8080/"
        },
        "id": "1DvFQ5VRLvqr",
        "outputId": "a587e5e5-6f4e-4628-b56d-9bef17b180d1"
      },
      "source": [
        "# fit model no training data\n",
        "model = XGBClassifier()\n",
        "model.fit(X_train, y_train)"
      ],
      "execution_count": null,
      "outputs": [
        {
          "output_type": "execute_result",
          "data": {
            "text/plain": [
              "XGBClassifier()"
            ]
          },
          "metadata": {},
          "execution_count": 136
        }
      ]
    },
    {
      "cell_type": "code",
      "metadata": {
        "id": "FYWnvtYyOjTj"
      },
      "source": [
        "\n",
        "# make predictions for test data\n",
        "y_pred = model.predict(X_test)\n",
        "predictions = [round(value) for value in y_pred]"
      ],
      "execution_count": null,
      "outputs": []
    },
    {
      "cell_type": "code",
      "metadata": {
        "colab": {
          "base_uri": "https://localhost:8080/"
        },
        "id": "UCMD-RpHOmMJ",
        "outputId": "8b74d324-83b9-462f-97fc-2aa208e6348f"
      },
      "source": [
        "\n",
        "# evaluate predictions\n",
        "accuracy = accuracy_score(y_test, predictions)\n",
        "print(\"Accuracy: %.2f%%\" % (accuracy * 100.0))"
      ],
      "execution_count": null,
      "outputs": [
        {
          "output_type": "stream",
          "name": "stdout",
          "text": [
            "Accuracy: 82.00%\n"
          ]
        }
      ]
    },
    {
      "cell_type": "markdown",
      "metadata": {
        "id": "10-XDRlFU8k9"
      },
      "source": [
        "# **Skit Learn Ensemble Random Forest Regressor**"
      ]
    },
    {
      "cell_type": "code",
      "metadata": {
        "id": "YhNzv1Vft3Bp",
        "colab": {
          "base_uri": "https://localhost:8080/"
        },
        "outputId": "c726d884-3f59-44c1-f803-56fdf301511f"
      },
      "source": [
        "from sklearn.ensemble import RandomForestRegressor\n",
        "\n",
        "rf_reg = RandomForestRegressor(n_estimators=80, max_depth=35)\n",
        "rf_reg.fit(X_train, y_train)"
      ],
      "execution_count": null,
      "outputs": [
        {
          "output_type": "execute_result",
          "data": {
            "text/plain": [
              "RandomForestRegressor(max_depth=35, n_estimators=80)"
            ]
          },
          "metadata": {},
          "execution_count": 139
        }
      ]
    },
    {
      "cell_type": "code",
      "metadata": {
        "id": "crA5_Qugt3Bq"
      },
      "source": [
        "from sklearn.metrics import mean_absolute_error\n",
        "\n",
        "data_testY = y_test\n",
        "data_testX = X_test\n",
        "data_testX['Prediction'] = rf_reg.predict(X_test)\n",
        "\n",
        "dataset_all = pd.concat([data_testX,data_testY], sort=True)\n",
        "data_testX.head()"
      ],
      "execution_count": null,
      "outputs": []
    },
    {
      "cell_type": "code",
      "metadata": {
        "colab": {
          "base_uri": "https://localhost:8080/"
        },
        "id": "PjNZg33DReYo",
        "outputId": "2901ddf8-cc10-4e98-aa3b-d3d01b3aa6a3"
      },
      "source": [
        "mean_absolute_error(y_true=y_test,\n",
        "                   y_pred=data_testX['Prediction'])"
      ],
      "execution_count": null,
      "outputs": [
        {
          "output_type": "execute_result",
          "data": {
            "text/plain": [
              "0.27524319066147857"
            ]
          },
          "metadata": {},
          "execution_count": 141
        }
      ]
    },
    {
      "cell_type": "code",
      "metadata": {
        "id": "eIj7bgvet3Bt",
        "colab": {
          "base_uri": "https://localhost:8080/"
        },
        "outputId": "a61cf350-733a-43c0-be7c-4e5952a4619a"
      },
      "source": [
        "from statsmodels.tools.eval_measures import rmse\n",
        "error_=rmse(y_test,\n",
        "                  data_testX['Prediction'])\n",
        "error_"
      ],
      "execution_count": null,
      "outputs": [
        {
          "output_type": "execute_result",
          "data": {
            "text/plain": [
              "0.36970688844780636"
            ]
          },
          "metadata": {},
          "execution_count": 142
        }
      ]
    }
  ]
}